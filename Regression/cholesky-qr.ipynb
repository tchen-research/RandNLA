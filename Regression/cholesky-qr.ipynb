{
 "cells": [
  {
   "cell_type": "markdown",
   "metadata": {},
   "source": [
    "# Cholesky QR\n",
    "\n",
    "The solution to the linear regression problem {eq}`eqn-regression` is also the solution of the so-called *normal equations*:\n",
    "```{math}\n",
    ":label: eqn-normal_eq\n",
    "\\vec{A}^\\T\\vec{A}\\vec{x} = \\vec{A}^\\T\\vec{b}.\n",
    "```\n"
   ]
  },
  {
   "cell_type": "code",
   "execution_count": null,
   "metadata": {},
   "outputs": [],
   "source": []
  }
 ],
 "metadata": {
  "kernelspec": {
   "display_name": "Python 3",
   "language": "python",
   "name": "python3"
  },
  "language_info": {
   "codemirror_mode": {
    "name": "ipython",
    "version": 3
   },
   "file_extension": ".py",
   "mimetype": "text/x-python",
   "name": "python",
   "nbconvert_exporter": "python",
   "pygments_lexer": "ipython3",
   "version": "3.8.5"
  }
 },
 "nbformat": 4,
 "nbformat_minor": 4
}
