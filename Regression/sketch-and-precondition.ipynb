{
 "cells": [
  {
   "cell_type": "markdown",
   "metadata": {},
   "source": [
    "# Sketch and Precondition\n",
    "\n",
    "The sketch-and-precondition approach provides a powerful alternative to both direct factorization methods and the [sketch-and-solve](sketch-and-solve.ipynb) paradigm for solving the linear regression problem {eq}`eqn-regression`.\n",
    "Unlike sketch-and-solve, which may sacrifice accuracy for speed, sketch-and-precondition maintains high accuracy while achieving significant computational speedups.\n",
    "\n",
    "The key insight behind sketch-and-precondition is to use a randomized sketch to construct a preconditioner that improves the conditioning the regression problem {eq}`eqn-regression`.\n",
    "\n",
    "## Iterative Methods and Preconditioning\n",
    "\n",
    "For any invertible matrix $\\vec{M}\\in\\R^{d\\times d}$, the solution to the regression problem {eq}`eqn-regression` is also the solution to the preconditioned least squares problem\n",
    "```{math}\n",
    ":label: eqn-precond-leastsquares\n",
    "\\min_{\\vec{x}\\in\\R^d} \\|\\vec{b}-\\vec{A}\\vec{M}\\vec{y}\\|\n",
    ",\\quad \\vec{x} = \\vec{M}\\vec{y}.\n",
    "```\n",
    "The advantage of this reformulation is that the condition number of the matrix $\\vec{A}\\vec{M}$ can be much smaller than that of $\\vec{A}$, leading to faster convergence when using iterative methods.\n",
    "\n",
    ":::{prf:theorem}\n",
    "LSQR produces an iterate $\\vec{x}_t$ such that \n",
    "\\begin{equation*}\n",
    "\\| \\vec{A}(\\vec{x}^* - \\vec{x}_t) \\| \\leq \\varepsilon \\|\\vec{b} - \\vec{A}\\vec{x}^*\\|,\n",
    "\\end{equation*}\n",
    "for some \n",
    "\\begin{equation*}\n",
    "t = O\\left( \\cond(\\vec{A}\\vec{M}) \\log\\left(\\frac{1}{\\varepsilon}\\right) \\right) ~\\text{iterations}.\n",
    "\\end{equation*}\n",
    "This requires $t$ matrix-vector products with $\\vec{A}$, $\\vec{A}^\\T$, $\\vec{M}$, and $\\vec{M}^\\T$, and an additional $O(tn)$ arithmetic work.\n",
    ":::"
   ]
  },
  {
   "cell_type": "markdown",
   "metadata": {},
   "source": [
    "\n",
    "## The Sketch-and-Precondition Algorithm\n",
    "\n",
    "The basic sketch-and-precondition algorithm follows a two-stage approach: first construct a preconditioner using a randomized sketch, then solve the preconditioned system using an iterative method.\n",
    "\n",
    ":::{prf:algorithm} Sketch and Precondition\n",
    ":label: sketch-and-precondition\n",
    "\n",
    "**Input:** $\\vec{A}\\in\\R^{n\\times d}$, $\\vec{b}\\in\\R^n$, sketching dimension $k$, tolerance $\\varepsilon$\n",
    "\n",
    "1. Get $\\vec{Q}_1,\\vec{R}_1 = \\Call{Sketched-QR}(\\vec{A},k)$\n",
    "2. Form preconditioner $\\vec{M} = \\vec{R}^{-1}$\n",
    "3. Set $\\widehat{\\vec{x}} = \\Call{Iterative-Method}(\\vec{A},\\vec{b},\\vec{M})$\n",
    "\n",
    "**Output:** $\\vec{x}$\n",
    ":::\n",
    "\n",
    "Any version of [Sketched-QR algorithm](../QR-Factorization/randomized-cholesky-qr.ipynb) that produces subspace embedding can be used.\n",
    "\n",
    ":::{prf:theorem}\n",
    "\n",
    "Suppose $\\vec{A}$ is full-rank and the sketch $\\vec{S}$ used by the [Sketched-QR algorithm](../QR-Factorization/randomized-cholesky-qr.ipynb) is an $\\varepsilon$-subspace embedding for $\\vec{A}$.\n",
    "Then \n",
    "\\begin{equation*}\n",
    "\\cond(\\vec{A}\\vec{M}) \\leq  \\frac{1+\\varepsilon}{1-\\varepsilon}.\n",
    "\\end{equation*}\n",
    ":::\n",
    "\n",
    ":::{admonition} Proof\n",
    ":class: dropdown\n",
    "\n",
    "Recall $\\vec{A} = \\vec{Q}\\vec{R}$.\n",
    "By {eqn}`sketched-qr-well-conditioned`, $\\cond(\\vec{A}\\vec{M}) = \\cond(\\vec{A}\\vec{R}^{-1}) = \\cond(\\vec{Q}) \\leq (1+\\varepsilon)/(1-\\varepsilon)$.\n",
    ":::"
   ]
  }
 ],
 "metadata": {
  "kernelspec": {
   "display_name": "Python 3",
   "language": "python",
   "name": "python3"
  },
  "language_info": {
   "codemirror_mode": {
    "name": "ipython",
    "version": 3
   },
   "file_extension": ".py",
   "mimetype": "text/x-python",
   "name": "python",
   "nbconvert_exporter": "python",
   "pygments_lexer": "ipython3",
   "version": "3.8.5"
  }
 },
 "nbformat": 4,
 "nbformat_minor": 4
}
