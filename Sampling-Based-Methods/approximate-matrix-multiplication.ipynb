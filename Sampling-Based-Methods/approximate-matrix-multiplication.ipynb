{
 "cells": [
  {
   "cell_type": "markdown",
   "metadata": {},
   "source": "---\ntitle: Approximate Matrix Multiplication\ndescription: Sampling-based algorithms for fast approximate matrix multiplication using row and column sampling\nkeywords: [approximate matrix multiplication, row sampling, column sampling, importance sampling, communication-efficient algorithms, sparse matrices]\n---\n\nThis notebook covers sampling-based methods for approximate matrix multiplication."
  },
  {
   "cell_type": "code",
   "execution_count": null,
   "metadata": {},
   "outputs": [],
   "source": []
  }
 ],
 "metadata": {
  "kernelspec": {
   "display_name": "Python 3",
   "language": "python",
   "name": "python3"
  },
  "language_info": {
   "codemirror_mode": {
    "name": "ipython",
    "version": 3
   },
   "file_extension": ".py",
   "mimetype": "text/x-python",
   "name": "python",
   "nbconvert_exporter": "python",
   "pygments_lexer": "ipython3",
   "version": "3.8.5"
  }
 },
 "nbformat": 4,
 "nbformat_minor": 4
}