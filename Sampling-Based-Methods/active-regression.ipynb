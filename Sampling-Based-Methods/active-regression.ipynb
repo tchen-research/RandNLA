{
 "cells": [
  {
   "cell_type": "markdown",
   "metadata": {},
   "source": "---\ntitle: Active Regression\ndescription: Adaptive sampling strategies for linear regression where observation costs are significant\nkeywords: [active regression, adaptive sampling, observation costs, sequential sampling, active learning, optimal design, sample complexity]\n---"
  },
  {
   "cell_type": "markdown",
   "metadata": {},
   "source": []
  }
 ],
 "metadata": {
  "language_info": {
   "name": "python"
  }
 },
 "nbformat": 4,
 "nbformat_minor": 2
}