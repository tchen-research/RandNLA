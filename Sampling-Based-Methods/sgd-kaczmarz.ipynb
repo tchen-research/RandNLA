{
 "cells": [
  {
   "cell_type": "markdown",
   "metadata": {},
   "source": "---\ntitle: SGD/Kaczmarz\ndescription: Stochastic gradient descent and randomized Kaczmarz methods for iterative linear system solving\nkeywords: [stochastic gradient descent, Kaczmarz method, iterative methods, randomized algorithms, convergence rates, row sampling, linear systems]\n---\n\nThis notebook covers stochastic gradient descent and Kaczmarz methods."
  },
  {
   "cell_type": "code",
   "execution_count": null,
   "metadata": {},
   "outputs": [],
   "source": []
  }
 ],
 "metadata": {
  "kernelspec": {
   "display_name": "Python 3",
   "language": "python",
   "name": "python3"
  },
  "language_info": {
   "codemirror_mode": {
    "name": "ipython",
    "version": 3
   },
   "file_extension": ".py",
   "mimetype": "text/x-python",
   "name": "python",
   "nbconvert_exporter": "python",
   "pygments_lexer": "ipython3",
   "version": "3.8.5"
  }
 },
 "nbformat": 4,
 "nbformat_minor": 4
}