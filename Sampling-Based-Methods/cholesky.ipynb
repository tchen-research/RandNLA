{
 "cells": [
  {
   "cell_type": "markdown",
   "metadata": {},
   "source": "---\ntitle: Cholesky (Sampling Methods)\ndescription: Randomized pivoting strategies and sampling approaches for Cholesky decomposition\nkeywords: [Cholesky decomposition, randomized pivoting, sampling-based factorization, symmetric positive definite, pivot selection, numerical stability]\n---\n\nThis notebook covers sampling-based Cholesky decomposition methods."
  },
  {
   "cell_type": "code",
   "execution_count": null,
   "metadata": {},
   "outputs": [],
   "source": []
  }
 ],
 "metadata": {
  "kernelspec": {
   "display_name": "Python 3",
   "language": "python",
   "name": "python3"
  },
  "language_info": {
   "codemirror_mode": {
    "name": "ipython",
    "version": 3
   },
   "file_extension": ".py",
   "mimetype": "text/x-python",
   "name": "python",
   "nbconvert_exporter": "python",
   "pygments_lexer": "ipython3",
   "version": "3.8.5"
  }
 },
 "nbformat": 4,
 "nbformat_minor": 4
}