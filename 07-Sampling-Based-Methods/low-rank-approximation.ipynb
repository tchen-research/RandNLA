{
 "cells": [
  {
   "cell_type": "markdown",
   "metadata": {},
   "source": "---\ntitle: Low-Rank Approximation (Sampling Methods)\ndescription: Sampling-based approaches to low-rank matrix approximation using column and row selection\nkeywords: [low-rank approximation, column sampling, row sampling, CUR-type methods, interpretable factorizations, sampling strategies]\nnumbering:\n  equation:\n    enumerator: 7.%s\n    continue: true\n  proof:theorem:\n    enumerator: 7.%s\n    continue: true\n  proof:algorithm:\n    enumerator: 7.%s\n    continue: true\n  proof:definition:\n    enumerator: 7.%s\n    continue: true\n  proof:proposition:\n    enumerator: 7.%s\n    continue: true\n---\n\nThis notebook covers sampling-based approaches to low-rank approximation."
  },
  {
   "cell_type": "code",
   "execution_count": null,
   "metadata": {},
   "outputs": [],
   "source": []
  }
 ],
 "metadata": {
  "kernelspec": {
   "display_name": "Python 3",
   "language": "python",
   "name": "python3"
  },
  "language_info": {
   "codemirror_mode": {
    "name": "ipython",
    "version": 3
   },
   "file_extension": ".py",
   "mimetype": "text/x-python",
   "name": "python",
   "nbconvert_exporter": "python",
   "pygments_lexer": "ipython3",
   "version": "3.8.5"
  }
 },
 "nbformat": 4,
 "nbformat_minor": 4
}