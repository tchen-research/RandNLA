{
 "cells": [
  {
   "cell_type": "markdown",
   "metadata": {},
   "source": "---\ntitle: Active Regression\ndescription: Adaptive sampling strategies for linear regression where observation costs are significant\nkeywords: [active regression, adaptive sampling, observation costs, sequential sampling, active learning, optimal design, sample complexity]\nnumbering:\n  equation:\n    enumerator: 7.%s\n    continue: true\n  proof:theorem:\n    enumerator: 7.%s\n    continue: true\n  proof:algorithm:\n    enumerator: 7.%s\n    continue: true\n  proof:definition:\n    enumerator: 7.%s\n    continue: true\n  proof:proposition:\n    enumerator: 7.%s\n    continue: true\n---"
  },
  {
   "cell_type": "markdown",
   "metadata": {},
   "source": []
  }
 ],
 "metadata": {
  "language_info": {
   "name": "python"
  }
 },
 "nbformat": 4,
 "nbformat_minor": 2
}