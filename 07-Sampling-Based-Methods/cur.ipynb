{
 "cells": [
  {
   "cell_type": "markdown",
   "metadata": {},
   "source": [
    "---\n",
    "title: CUR Decomposition\n",
    "description: CUR matrix decomposition using strategic column and row sampling for interpretable low-rank approximations\n",
    "keywords: [CUR decomposition, column-row factorization, interpretable matrices, leverage score sampling, skeleton decomposition, data interpretability]\n",
    "numbering:\n",
    "  equation:\n",
    "    enumerator: 7.%s\n",
    "    continue: true\n",
    "  proof:theorem:\n",
    "    enumerator: 7.%s\n",
    "    continue: true\n",
    "  proof:algorithm:\n",
    "    enumerator: 7.%s\n",
    "    continue: true\n",
    "  proof:definition:\n",
    "    enumerator: 7.%s\n",
    "    continue: true\n",
    "  proof:proposition:\n",
    "    enumerator: 7.%s\n",
    "    continue: true\n",
    "---\n",
    "\n",
    "\n",
    "\\vec{A} \\langle \\vec{\\Omega}\\rangle := \\vec{A}\\vec{\\Omega} ( \\vec{\\Omega}^\\T\\vec{A}\\vec{\\Omega})^+ \\vec{\\Omega}^\\T\\vec{A}.\n",
    "\n"
   ]
  },
  {
   "cell_type": "code",
   "execution_count": null,
   "metadata": {},
   "outputs": [],
   "source": []
  }
 ],
 "metadata": {
  "kernelspec": {
   "display_name": "Python 3",
   "language": "python",
   "name": "python3"
  },
  "language_info": {
   "codemirror_mode": {
    "name": "ipython",
    "version": 3
   },
   "file_extension": ".py",
   "mimetype": "text/x-python",
   "name": "python",
   "nbconvert_exporter": "python",
   "pygments_lexer": "ipython3",
   "version": "3.8.5"
  }
 },
 "nbformat": 4,
 "nbformat_minor": 4
}
