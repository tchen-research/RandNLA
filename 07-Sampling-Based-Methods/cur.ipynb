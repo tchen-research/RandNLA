{
 "cells": [
  {
   "cell_type": "markdown",
   "metadata": {},
   "source": "---\ntitle: CUR Decomposition\ndescription: CUR matrix decomposition using strategic column and row sampling for interpretable low-rank approximations\nkeywords: [CUR decomposition, column-row factorization, interpretable matrices, leverage score sampling, skeleton decomposition, data interpretability]\nnumbering:\n  equation:\n    enumerator: 7.%s\n    continue: true\n  proof:theorem:\n    enumerator: 7.%s\n    continue: true\n  proof:algorithm:\n    enumerator: 7.%s\n    continue: true\n  proof:definition:\n    enumerator: 7.%s\n    continue: true\n  proof:proposition:\n    enumerator: 7.%s\n    continue: true\n---\n\nThis notebook covers the CUR matrix decomposition using sampling methods."
  },
  {
   "cell_type": "code",
   "execution_count": null,
   "metadata": {},
   "outputs": [],
   "source": []
  }
 ],
 "metadata": {
  "kernelspec": {
   "display_name": "Python 3",
   "language": "python",
   "name": "python3"
  },
  "language_info": {
   "codemirror_mode": {
    "name": "ipython",
    "version": 3
   },
   "file_extension": ".py",
   "mimetype": "text/x-python",
   "name": "python",
   "nbconvert_exporter": "python",
   "pygments_lexer": "ipython3",
   "version": "3.8.5"
  }
 },
 "nbformat": 4,
 "nbformat_minor": 4
}