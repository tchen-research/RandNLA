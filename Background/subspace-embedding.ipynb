{
 "cells": [
  {
   "cell_type": "markdown",
   "metadata": {},
   "source": [
    "# Subspace Embedding\n",
    "\n",
    "Perhaps the most important property of a sketching matrix is that it preserves the geometry of a subspace.\n",
    "This is quantified by the following definition:\n",
    "\n",
    "````{prf:definition} Subspace Embedding\n",
    ":label: def-subspace-embedding\n",
    "\n",
    "Let $V$ be a subspace of $\\R^n$. We say a matrix $\\vec{S}$ is a subspace embedding for $V$ with distortion $\\varepsilon$ if\n",
    "```{math}\n",
    "\\forall \\vec{x}\\in V: (1-\\varepsilon)\\|\\vec{x}\\| \\leq \\|\\vec{S}\\vec{x}\\| \\leq (1+\\varepsilon)\\|\\vec{x}\\|.\n",
    "```\n",
    "When $V = \\range(\\vec{A})$ for some matrix $\\vec{A}$, we say that $\\vec{S}$ is a subspace embedding for $\\vec{A}$.\n",
    "````\n",
    "\n",
    "In particular, a subspace embedding ensures that the lengths of all vectors within a subspace are preserved by the sketch. \n",
    "\n",
    "\n",
    "It will sometimes be useful to work with the following equivalent characterization of subspace embeddings:\n",
    "\n",
    "````{prf:theorem}\n",
    "\n",
    "Let $\\vec{V}$ be an orthonormal basis for a subspace $V$ of $\\R^n$. \n",
    "Then $\\vec{S}$ is a subspace embedding for $V$ if and only if\n",
    "```{math}\n",
    "\\| \\vec{V}^\\T \\vec{S}^\\T \\vec{S} \\vec{V} - \\vec{I} \\|_2 \\leq \\varepsilon.\n",
    "```\n",
    "````\n",
    "\n",
    "````{prf:proof}\n",
    "TODO\n",
    "\n",
    "````\n",
    "\n",
    "\n",
    "TODO COmment on that many algorithm just require subspace embedding to work. \n"
   ]
  },
  {
   "cell_type": "markdown",
   "metadata": {},
   "source": [
    "\n",
    "## Gaussian Embeddings\n",
    "\n",
    "````{prf:definition} Gaussian Matrix\n",
    "We say a matrix $\\vec{G} \\in \\R^{p \\times q}$ is a Gaussian matrix if its entries are independent and identically distributed random variables drawn from a standard normal distribution $\\mathcal{N}(0,1)$.\n",
    "````\n",
    "\n",
    "### Orthogonal Invariance\n",
    "\n",
    "````{prf:proposition} Orthogonal Invariance\n",
    "Let $\\vec{G} \\sim \\operatorname{Gaussian}(p,q)$ be a Gaussian matrix. \n",
    "Then, for any compatible orthogonal matrix $\\vec{Q}$,\n",
    "```{math}\n",
    "\\vec{Q} \\vec{G} \\sim \\operatorname{Gaussian}(p,q).\n",
    "```\n",
    "````\n",
    "\n",
    "### Spectral Properties\n",
    "\n",
    "````{prf:proposition} Eigenvalue bounds\n",
    "````\n",
    "\n",
    "````{prf:theorem} Gaussian Subspace Embedding\n",
    "````\n",
    "\n",
    "\n",
    "### Other properties\n",
    "\n",
    "{cite:p}`tropp_webber_23`\n",
    "\n",
    "\n",
    "````{prf:proposition}\n",
    "Let $\\vec{G} \\sim \\operatorname{Gaussian}(p,q)$. \n",
    "Then, for compatible matrices $\\vec{X}$ and $\\vec{Y}$, \n",
    "```{math}\n",
    "    \\EE\\bigl[ \\| \\vec{X} \\vec{G} \\vec{Y} \\|_\\F^2 \\bigr]\n",
    "    = \\| \\vec{X} \\|_\\F^2 \\|\\vec{Y}\\|_\\F^2.        \n",
    "```\n",
    "Moreover, if $p-q \\geq 2$, then \n",
    "```{math}\n",
    "\\EE\\bigl[ \\| \\vec{G}^\\dagger \\|_\\F^2 \\bigr]\n",
    "= \\frac{q}{p-q-1}.\n",
    "```\n",
    "````\n"
   ]
  },
  {
   "cell_type": "markdown",
   "metadata": {},
   "source": [
    "### Other Distributions\n",
    "\n",
    "#### Sparse Embeddings\n",
    "\n",
    "#### Trigonometric Embeddings"
   ]
  },
  {
   "cell_type": "code",
   "execution_count": null,
   "metadata": {},
   "outputs": [],
   "source": []
  }
 ],
 "metadata": {
  "kernelspec": {
   "display_name": "Python 3",
   "language": "python",
   "name": "python3"
  },
  "language_info": {
   "codemirror_mode": {
    "name": "ipython",
    "version": 3
   },
   "file_extension": ".py",
   "mimetype": "text/x-python",
   "name": "python",
   "nbconvert_exporter": "python",
   "pygments_lexer": "ipython3",
   "version": "3.8.5"
  }
 },
 "nbformat": 4,
 "nbformat_minor": 4
}
