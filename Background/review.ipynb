{
 "cells": [
  {
   "cell_type": "markdown",
   "metadata": {},
   "source": [
    "# Review"
   ]
  },
  {
   "cell_type": "markdown",
   "metadata": {},
   "source": [
    "## Factorizations\n",
    "\n",
    "\n",
    "For a matrix $\\vec{A} \\in \\R^{n \\times d}$, a QR factorization is a decomposition \n",
    "```{math}\n",
    ":label: eqn-qr-factorization\n",
    "\\vec{A} = \\vec{Q} \\vec{R}\n",
    "```\n",
    "where $\\vec{Q} \\in \\R^{n \\times d}$ has orthonormal columns ($\\vec{Q}^\\T \\vec{Q} = \\vec{I}$) and $\\vec{R} \\in \\R^{d \\times d}$ is upper triangular.\n"
   ]
  },
  {
   "cell_type": "markdown",
   "metadata": {},
   "source": [
    "## Conditioning and stability\n",
    "\n",
    "todo"
   ]
  },
  {
   "cell_type": "markdown",
   "metadata": {},
   "source": [
    "\n",
    "## The Lanczos Method for Matrix Functions\n",
    "\n",
    "Let $\\vec{A}\\in\\R^{n\\times n}$ be a symmetric matrix with eigendecomposition $\\vec{A} = \\sum_{i=1}^{n} \\lambda_i \\vec{u}_i \\vec{u}_i^\\T$, where $\\lambda_i$ are the eigenvalues and $\\vec{u}_i$ are the orthonormal eigenvectors of $\\vec{A}$.\n",
    "Recall the matrix function \n",
    "\\begin{equation*}\n",
    "f(\\vec{A}) := \\sum_{i=1}^{n} f(\\lambda_i) \\vec{u}_i \\vec{u}_i^\\T.\n",
    "\\end{equation*}\n",
    "\n",
    "The Lanczos method can be used to approximate the maps $\\vec{x}\\mapsto \\vec{x}^\\T f(\\vec{A})\\vec{x}$ and $\\vec{x}\\mapsto f(\\vec{A})\\vec{x}$.\n",
    "\n",
    ":::{prf:definition} Krylov Subspace\n",
    "Given a matrix $\\vec{A}\\in\\R^{n\\times n}$ and a vector $\\vec{x}\\in\\R^n$, the *Krylov subspace* of order $k$ is defined as\n",
    "\\begin{equation*}\n",
    "\\mathcal{K}_k(\\vec{A}, \\vec{x}) := \\text{span}\\{\\vec{x}, \\vec{A}\\vec{x}, \\ldots, \\vec{A}^{k-1}\\vec{x}\\}.\n",
    "\\end{equation*}\n",
    ":::\n",
    "\n",
    "When applied to a symmetric matrix $\\vec{A}$ for $k$ iterations, the Lanczos method produces an orthonormal basis $\\vec{Q}\\in\\R^{n\\times k}$ for the Krylov subspace $\\mathcal{K}_k(\\vec{A}, \\vec{x})$ and a symmetric tridiagonal matrix $\\vec{T}\\in\\R^{k\\times k}$ such that $\\vec{T} = \\vec{Q}^\\T\\vec{A}\\vec{Q}$.\n",
    "The output of the Lanczos method can then be used to approximate $f(\\vec{A})\\vec{x}$ and $\\vec{x}^\\T f(\\vec{A})\\vec{x}$.\n",
    "This requires $k-1$ matrix-vector products with $\\vec{A}$.\n",
    "\n",
    ":::{prf:definition} Lanczos Method for matrix functions\n",
    ":label: def:lanczos-method\n",
    "The Lanczos approximations to $f(\\vec{A})\\vec{x}$ and $\\vec{x}^\\T f(\\vec{A})\\vec{x}$ are respectively given by\n",
    "\\begin{equation*}\\begin{aligned}\n",
    "\\Call{Lan-FA}_k(f;\\vec{A},\\vec{x})&:= \\|\\vec{x}\\|\\vec{Q} f(\\vec{T})\\vec{e}_1 \\\\\n",
    "\\Call{Lan-QF}_k(f;\\vec{A},\\vec{x})&:=  \\|\\vec{x}\\|^2\\vec{e}_1^\\T f(\\vec{T})\\vec{e}_1.\n",
    "\\end{aligned}\\end{equation*}\n",
    ":::\n",
    "\n",
    "It is well-known that the accuracy of these approximations is related to how well $f(x)$ can be approximation by polynomials on the interval $[\\lambda_n,\\lambda_1]$.\n",
    "\n",
    ":::{prf:theorem} \n",
    ":label: thm:lanczos_FA_polynomial\n",
    "\\begin{equation*}\n",
    "\\begin{aligned}\n",
    "\\| f(\\vec{A})\\vec{x} - \\Call{Lan-FA}_k(f;\\vec{A},\\vec{x}) \\| &\\leq 2 \\|\\vec{x}\\| \\min_{\\deg(p)<k} \\left(\\max_{x\\in[\\lambda_n,\\lambda_1]} | f(x) - p(x) |\\right) \\\\\n",
    "| \\vec{x}^\\T f(\\vec{A})\\vec{x} - \\Call{Lan-QF}_k(f;\\vec{A},\\vec{x}) | &\\leq 2 \\|\\vec{x}\\|^2 \\min_{\\deg(p)<2k-1} \\left(\\max_{x\\in[\\lambda_n,\\lambda_1]} | f(x) - p(x) |\\right).\n",
    "\\end{aligned}\n",
    "\\end{equation*}\n",
    ":::\n",
    "\n",
    "In particular, note that when $f(x)$ is a low-degree polynomial, the approximations are exact.\n",
    "\n"
   ]
  }
 ],
 "metadata": {
  "language_info": {
   "name": "python"
  }
 },
 "nbformat": 4,
 "nbformat_minor": 2
}
