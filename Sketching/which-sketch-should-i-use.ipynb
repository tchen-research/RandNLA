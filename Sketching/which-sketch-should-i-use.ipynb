{
 "cells": [
  {
   "cell_type": "markdown",
   "metadata": {},
   "source": [
    "# Which Sketch Should I Use?\n",
    "\n",
    "*This section shares the title of Ethan's [blog post](https://www.ethanepperly.com/index.php/2023/11/27/which-sketch-should-i-use/), which inspired the design of the experiments we conduct here.*\n",
    "\n",
    "\n",
    "In the past several sections, we have seen several oblivious sketching methods. \n",
    "Which one should we use?\n"
   ]
  },
  {
   "cell_type": "code",
   "execution_count": 1,
   "metadata": {
    "tags": [
     "remove-cell"
    ]
   },
   "outputs": [],
   "source": [
    "import numpy as np\n",
    "import scipy as sp\n",
    "from scipy import fft,sparse\n",
    "import pandas as pd\n",
    "import time\n",
    "import matplotlib.pyplot as plt"
   ]
  },
  {
   "cell_type": "code",
   "execution_count": 41,
   "metadata": {
    "tags": [
     "remove-cell"
    ]
   },
   "outputs": [],
   "source": [
    "def gaussian_sketch(n,k,rng):\n",
    "    S = rng.randn(k,n) / np.sqrt(k)\n",
    "    return S\n",
    "\n",
    "class trig_sketch():\n",
    "    \n",
    "    def __init__(self,n,k,rng):\n",
    "\n",
    "        self.shape = (k,n)\n",
    "        self.pi = rng.permutation(n)\n",
    "        self.E = 2*rng.randint(0,2,n)-1\n",
    "        self.R = rng.choice(n,size=k,replace=False)\n",
    "\n",
    "    def __matmul__(self,A):\n",
    "\n",
    "        A_loc = A.A if sp.sparse.issparse(A) else A\n",
    "        return np.sqrt(self.shape[1]/self.shape[0])*sp.fft.dct(self.E[:,None]*A_loc[self.pi],norm='ortho',axis=0)[self.R]\n",
    "    \n",
    "def sparse_stack_sketch(n,k,zeta,rng):\n",
    "\n",
    "    k_rem = k%zeta\n",
    "    k_loc = k//zeta+(k_rem>0)\n",
    "\n",
    "    C = np.random.randint(0,k_loc,size=(n,zeta))\n",
    "    if k_rem > 0:\n",
    "        C[:,-1] = np.random.randint(0,k_rem,size=n)\n",
    "    C += np.arange(0,k,k_loc)\n",
    "\n",
    "    indices = C.flatten()\n",
    "    values = np.sqrt(1/zeta)*(2*np.random.randint(2,size=n*zeta)-1)\n",
    "    indptr = np.arange(0,n+1)*zeta\n",
    "    S = sp.sparse.csc_matrix ((values,indices,indptr),shape=(k,n))\n",
    "\n",
    "    return S"
   ]
  },
  {
   "cell_type": "code",
   "execution_count": 48,
   "metadata": {},
   "outputs": [],
   "source": [
    "n = 10_000\n",
    "d = 50\n",
    "\n",
    "A = np.random.randn(n,d)\n",
    "A_s = sp.sparse.random(n,d, density=0.05)"
   ]
  },
  {
   "cell_type": "code",
   "execution_count": 49,
   "metadata": {
    "tags": [
     "hide-input"
    ]
   },
   "outputs": [],
   "source": [
    "sketch_methods = {\n",
    "    'Gaussian': {\n",
    "        'func': lambda k,rng: gaussian_sketch(n,k,rng),\n",
    "    },\n",
    "    'Trig': {\n",
    "        'func': lambda k,rng: trig_sketch(n,k,rng),\n",
    "    },\n",
    "    'Sparse (zeta=4)': {\n",
    "        'func': lambda k,rng: sparse_stack_sketch(n,k,4,rng),\n",
    "    },\n",
    "    'Sparse (zeta=8)': {\n",
    "        'func': lambda k,rng: sparse_stack_sketch(n,k,8,rng),\n",
    "    },\n",
    "}\n"
   ]
  },
  {
   "cell_type": "markdown",
   "metadata": {},
   "source": [
    "## Generate / Apply Cost"
   ]
  },
  {
   "cell_type": "code",
   "execution_count": 50,
   "metadata": {
    "tags": [
     "hide-input"
    ]
   },
   "outputs": [
    {
     "data": {
      "text/html": [
       "<style type=\"text/css\">\n",
       "</style>\n",
       "<table id=\"T_971f6\">\n",
       "  <thead>\n",
       "    <tr>\n",
       "      <th class=\"blank level0\" >&nbsp;</th>\n",
       "      <th id=\"T_971f6_level0_col0\" class=\"col_heading level0 col0\" >method</th>\n",
       "      <th id=\"T_971f6_level0_col1\" class=\"col_heading level0 col1\" >gen. time (s)</th>\n",
       "      <th id=\"T_971f6_level0_col2\" class=\"col_heading level0 col2\" >apply to dense time (s)</th>\n",
       "      <th id=\"T_971f6_level0_col3\" class=\"col_heading level0 col3\" >apply to sparse time (s)</th>\n",
       "    </tr>\n",
       "  </thead>\n",
       "  <tbody>\n",
       "    <tr>\n",
       "      <th id=\"T_971f6_level0_row0\" class=\"row_heading level0 row0\" >0</th>\n",
       "      <td id=\"T_971f6_row0_col0\" class=\"data row0 col0\" >Gaussian</td>\n",
       "      <td id=\"T_971f6_row0_col1\" class=\"data row0 col1\" >6.55e-03</td>\n",
       "      <td id=\"T_971f6_row0_col2\" class=\"data row0 col2\" >2.50e-03</td>\n",
       "      <td id=\"T_971f6_row0_col3\" class=\"data row0 col3\" >5.23e-03</td>\n",
       "    </tr>\n",
       "    <tr>\n",
       "      <th id=\"T_971f6_level0_row1\" class=\"row_heading level0 row1\" >1</th>\n",
       "      <td id=\"T_971f6_row1_col0\" class=\"data row1 col0\" >Trig</td>\n",
       "      <td id=\"T_971f6_row1_col1\" class=\"data row1 col1\" >8.63e-04</td>\n",
       "      <td id=\"T_971f6_row1_col2\" class=\"data row1 col2\" >2.00e-03</td>\n",
       "      <td id=\"T_971f6_row1_col3\" class=\"data row1 col3\" >1.46e-03</td>\n",
       "    </tr>\n",
       "    <tr>\n",
       "      <th id=\"T_971f6_level0_row2\" class=\"row_heading level0 row2\" >2</th>\n",
       "      <td id=\"T_971f6_row2_col0\" class=\"data row2 col0\" >Sparse (zeta=4)</td>\n",
       "      <td id=\"T_971f6_row2_col1\" class=\"data row2 col1\" >1.22e-03</td>\n",
       "      <td id=\"T_971f6_row2_col2\" class=\"data row2 col2\" >3.42e-04</td>\n",
       "      <td id=\"T_971f6_row2_col3\" class=\"data row2 col3\" >9.97e-04</td>\n",
       "    </tr>\n",
       "    <tr>\n",
       "      <th id=\"T_971f6_level0_row3\" class=\"row_heading level0 row3\" >3</th>\n",
       "      <td id=\"T_971f6_row3_col0\" class=\"data row3 col0\" >Sparse (zeta=8)</td>\n",
       "      <td id=\"T_971f6_row3_col1\" class=\"data row3 col1\" >1.01e-03</td>\n",
       "      <td id=\"T_971f6_row3_col2\" class=\"data row3 col2\" >9.95e-04</td>\n",
       "      <td id=\"T_971f6_row3_col3\" class=\"data row3 col3\" >2.03e-03</td>\n",
       "    </tr>\n",
       "  </tbody>\n",
       "</table>\n"
      ],
      "text/plain": [
       "<pandas.io.formats.style.Styler at 0x75bb3df7e3b0>"
      ]
     },
     "execution_count": 50,
     "metadata": {},
     "output_type": "execute_result"
    }
   ],
   "source": [
    "k = 2*d\n",
    "\n",
    "n_repeat = 10\n",
    "\n",
    "results = []\n",
    "\n",
    "for method_name, method_info in sketch_methods.items():\n",
    "    # Time the method\n",
    "    start = time.time()\n",
    "    for i in range(n_repeat):\n",
    "        rng = np.random.RandomState(i)\n",
    "        S = method_info['func'](k,rng)\n",
    "    end = time.time()\n",
    "    \n",
    "    avg_gen_time = (end - start) / n_repeat\n",
    "\n",
    "    start = time.time()\n",
    "    for i in range(n_repeat):\n",
    "        rng = np.random.RandomState(i)\n",
    "        S = method_info['func'](k,rng)\n",
    "        S@A\n",
    "    end = time.time()\n",
    "    \n",
    "    avg_dense_apply_time = (end - start) / n_repeat - avg_gen_time\n",
    "\n",
    "    start = time.time()\n",
    "    for i in range(n_repeat):\n",
    "        rng = np.random.RandomState(i)\n",
    "        S = method_info['func'](k,rng)\n",
    "        S@A_s\n",
    "    end = time.time()\n",
    "    \n",
    "    avg_sparse_apply_time = (end - start) / n_repeat - avg_gen_time\n",
    "    \n",
    "    # Compute accuracy metrics\n",
    "    results.append({\n",
    "        'method': method_name,\n",
    "        'gen. time (s)': avg_gen_time,\n",
    "        'apply to dense time (s)': avg_dense_apply_time,\n",
    "        'apply to sparse time (s)': avg_sparse_apply_time,\n",
    "    })\n",
    "\n",
    "\n",
    "# Create DataFrame and compute relative performance\n",
    "results_df = pd.DataFrame(results)\n",
    "\n",
    "# Display results with formatting\n",
    "results_df.style.format({\n",
    "    'gen. time (s)': '{:1.2e}',\n",
    "    'apply to dense time (s)': '{:1.2e}',\n",
    "    'apply to sparse time (s)': '{:1.2e}'\n",
    "})"
   ]
  },
  {
   "cell_type": "markdown",
   "metadata": {},
   "source": [
    "## Distortion"
   ]
  },
  {
   "cell_type": "code",
   "execution_count": 51,
   "metadata": {},
   "outputs": [],
   "source": [
    "U,_ = np.linalg.qr(A)\n",
    "\n",
    "U_hard = np.zeros((n,d))\n",
    "U_hard[:d] = np.eye(d)"
   ]
  },
  {
   "cell_type": "code",
   "execution_count": 52,
   "metadata": {
    "tags": [
     "hide-input"
    ]
   },
   "outputs": [],
   "source": [
    "sketch_problems = {\n",
    "    'typical': {\n",
    "        'U': U,\n",
    "    },\n",
    "    'hard': {\n",
    "        'U': U_hard,\n",
    "    },\n",
    "}\n",
    "\n",
    "ks = np.geomspace(2*d,1000,10,dtype=int)\n",
    "\n",
    "n_repeat = 1\n",
    "\n",
    "results = {}\n",
    "\n",
    "for problem_name,problem_info in sketch_problems.items():\n",
    "\n",
    "    U_problem = problem_info['U']\n",
    "    for method_name, method_info in sketch_methods.items():\n",
    "\n",
    "\n",
    "        distortion = np.zeros((n_repeat,len(ks)))\n",
    "        for i in range(n_repeat):\n",
    "            rng = np.random.RandomState(i)\n",
    "            for j,k in enumerate(ks):\n",
    "            \n",
    "                S = method_info['func'](k,rng)\n",
    "                Y = S@U_problem\n",
    "\n",
    "                s = np.linalg.svd(Y,compute_uv=False)\n",
    "                distortion[i,j] = max(s[0]-1,1-s[-1]) \n",
    "\n",
    "        results[problem_name,method_name] = {\n",
    "            'distortion': distortion,\n",
    "        }"
   ]
  },
  {
   "cell_type": "code",
   "execution_count": 53,
   "metadata": {
    "tags": [
     "hide-input"
    ]
   },
   "outputs": [
    {
     "data": {
      "text/plain": [
       "<matplotlib.legend.Legend at 0x75bb3de99f60>"
      ]
     },
     "execution_count": 53,
     "metadata": {},
     "output_type": "execute_result"
    },
    {
     "data": {
      "image/png": "[encoded data removed]",
      "text/plain": [
       "<Figure size 1000x400 with 2 Axes>"
      ]
     },
     "metadata": {},
     "output_type": "display_data"
    }
   ],
   "source": [
    "σ = 0.05\n",
    "fig, axs = plt.subplots(1,len(sketch_problems),figsize=(10, 4),sharey=True)\n",
    "\n",
    "# Handle case where we only have one subplot\n",
    "if len(sketch_problems) == 1:\n",
    "    axs = [axs]\n",
    "\n",
    "for i, (problem_name, problem_info) in enumerate(sketch_problems.items()):\n",
    "    ax = axs[i]\n",
    "    \n",
    "    for method_name, method_info in sketch_methods.items():\n",
    "        # Get the distortion data for this problem and method\n",
    "        distortion = results[problem_name, method_name]['distortion']\n",
    "        \n",
    "        bot, mid, top = np.quantile(distortion, [σ, .5, 1-σ], axis=0)\n",
    "        ax.plot(ks/d, mid, label=method_name, linewidth=2)\n",
    "        ax.fill_between(ks/d, bot, top, alpha=.2)\n",
    "\n",
    "    # Theoretical bound\n",
    "    ax.plot(ks/d, np.sqrt(d/ks), ls=':', color='k', label=r'$\\sqrt{d/k}$ estimate')\n",
    "\n",
    "    ax.set_yscale('log')\n",
    "    ax.set_xscale('log')\n",
    "    ax.set_xlabel('Sketch size ($k/d$)')\n",
    "    ax.set_title(f'Distortion vs Sketch Size - {problem_name.capitalize()} Problem')\n",
    "\n",
    "axs[0].set_ylabel(rf'Distortion $\\varepsilon$')\n",
    "axs[0].legend()\n"
   ]
  },
  {
   "cell_type": "code",
   "execution_count": null,
   "metadata": {},
   "outputs": [],
   "source": []
  }
 ],
 "metadata": {
  "kernelspec": {
   "display_name": "base",
   "language": "python",
   "name": "python3"
  },
  "language_info": {
   "codemirror_mode": {
    "name": "ipython",
    "version": 3
   },
   "file_extension": ".py",
   "mimetype": "text/x-python",
   "name": "python",
   "nbconvert_exporter": "python",
   "pygments_lexer": "ipython3",
   "version": "3.10.9"
  }
 },
 "nbformat": 4,
 "nbformat_minor": 4
}
