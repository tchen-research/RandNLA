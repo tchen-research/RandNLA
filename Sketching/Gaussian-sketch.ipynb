{
 "cells": [
  {
   "cell_type": "markdown",
   "metadata": {},
   "source": [
    "# Gaussian Sketching Matrices\n",
    "\n",
    "\n",
    "\n",
    "````{prf:definition} Gaussian Matrix\n",
    "We say a matrix $\\vec{G} \\in \\R^{p \\times q}$ is a Gaussian matrix if its entries are independent and identically distributed random variables drawn from a standard normal distribution $\\mathcal{N}(0,1)$.\n",
    "````"
   ]
  },
  {
   "cell_type": "code",
   "execution_count": null,
   "metadata": {
    "vscode": {
     "languageId": "plaintext"
    }
   },
   "outputs": [],
   "source": [
    "def gaussian_sketch(n,k,rng):\n",
    "    S = rng.randn(k,n) / np.sqrt(k)\n",
    "    return S"
   ]
  },
  {
   "cell_type": "markdown",
   "metadata": {},
   "source": [
    "\n",
    "[Numerical Experiments](./which-sketch-should-i-use.ipynb)\n",
    "\n",
    "\n",
    "### Orthogonal Invariance\n",
    "\n",
    "````{prf:proposition} Orthogonal Invariance\n",
    ":label: prop:gaussian-orthogonal-invariance\n",
    "Let $\\vec{G} \\sim \\operatorname{Gaussian}(p,q)$ be a Gaussian matrix. \n",
    "Then, for any compatible orthogonal matrix $\\vec{Q}$,\n",
    "```{math}\n",
    "\\vec{Q} \\vec{G} \\sim \\operatorname{Gaussian}(p,q).\n",
    "```\n",
    "````\n",
    "\n",
    "### Spectral Properties\n",
    "\n",
    "````{prf:proposition} Eigenvalue bounds\n",
    "````\n",
    "\n",
    "````{prf:theorem} Gaussian Subspace Embedding\n",
    "````\n",
    "\n",
    "\n",
    "### Other properties\n",
    "\n",
    "{cite:p}`tropp_webber_23`\n",
    "\n",
    "\n",
    "````{prf:proposition}\n",
    ":label: prop:gaussian-inverse\n",
    "Let $\\vec{G} \\sim \\operatorname{Gaussian}(p,q)$. \n",
    "Then, for compatible matrices $\\vec{X}$ and $\\vec{Y}$, \n",
    "```{math}\n",
    "    \\EE\\bigl[ \\| \\vec{X} \\vec{G} \\vec{Y} \\|_\\F^2 \\bigr]\n",
    "    = \\| \\vec{X} \\|_\\F^2 \\|\\vec{Y}\\|_\\F^2.        \n",
    "```\n",
    "Moreover, if $p-q \\geq 2$, then \n",
    "```{math}\n",
    "\\EE\\bigl[ \\| \\vec{G}^\\dagger \\|_\\F^2 \\bigr]\n",
    "= \\frac{q}{p-q-1}.\n",
    "```\n",
    "````\n"
   ]
  }
 ],
 "metadata": {
  "language_info": {
   "name": "python"
  }
 },
 "nbformat": 4,
 "nbformat_minor": 2
}
