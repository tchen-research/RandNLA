{
 "cells": [
  {
   "cell_type": "markdown",
   "metadata": {},
   "source": [
    "---\n",
    "title: Symmetric Positive Definite Matrices\n",
    "description: Nyström methods for low-rank approximation of symmetric and positive semidefinite matrices\n",
    "keywords: [Nyström method, generalized Nyström, symmetric matrices, positive semidefinite, kernel matrices, column sampling, eigenvalue decomposition]\n",
    "numbering:\n",
    "  equation:\n",
    "    enumerator: 5.%s\n",
    "    continue: true\n",
    "  proof:theorem:\n",
    "    enumerator: 5.%s\n",
    "    continue: true\n",
    "  proof:algorithm:\n",
    "    enumerator: 5.%s\n",
    "    continue: true\n",
    "  proof:definition:\n",
    "    enumerator: 5.%s\n",
    "    continue: true\n",
    "  proof:proposition:\n",
    "    enumerator: 5.%s\n",
    "    continue: true\n",
    "---"
   ]
  },
  {
   "cell_type": "markdown",
   "metadata": {},
   "source": [
    "\n",
    "In the case $\\vec{A}$ is symmetric positive definite, then we can make use of the *Nyström method*, which produces a low-rank approximation:\n",
    "\\begin{equation*}\n",
    "\\vec{A} \\langle \\vec{\\Omega}\\rangle := \\vec{A}\\vec{\\Omega} ( \\vec{\\Omega}^\\T\\vec{A}\\vec{\\Omega})^+ \\vec{\\Omega}^\\T\\vec{A}.\n",
    "\\end{equation*}\n",
    "\n",
    "In the case that $\\vec{\\Omega}$ is generated without knoweledge of $\\vec{A}$, then like the [Generalized Nyström method](./generalized-nystrom.ipynb), this algorithm requires just a single pass over $\\vec{A}$. \n",
    "In this case, it is the analog of the [Randomized SVD](./randomized-svd.ipynb) for symmetric positive definite matrices.\n",
    "In fact, at the cost of more passes over the data, we can replace $\\vec{\\Omega}$ with a basis for a Krylov subspace. \n",
    "The result algorithm improves on [Randomized block Krylov iteration](./subspace-iteration-block-krylov.ipynb).\n",
    "\n",
    "\n",
    "## Nyström Helps\n",
    "\n",
    "As noted in Lemma 5.2 in {cite:p}`tropp_webber_23`, the Nyström method always produces a low-rank approximation that is at least as good one-sided projection based methods such as the [Randomized SVD](./randomized-svd.ipynb) or the [Randomized Block Krylov Iteration](./subspace-iteration-block-krylov.ipynb).\n",
    "\n",
    "\n",
    ":::{prf:lemma} Nyström Helps\n",
    "Consider a psd matrix $\\vec{A} \\in \\R^{n \\times n}$ and any matrix $\\vec{M} \\in \\R^{n \\times b}$. Then\n",
    "\\begin{equation*}\n",
    "\\|\\vec{A} - \\vec{A}\\langle\\vec{M}\\rangle\\|_p \\leq \\|\\vec{A} - \\vec{\\Pi}_{\\vec{M}} \\vec{A}\\|_p = \\|\\vec{A} - \\vec{A}\\vec{\\Pi}_{\\vec{M}}\\|_p\n",
    "\\end{equation*}\n",
    "for any Schatten $p$-norm with $1 \\leq p \\leq \\infty$. The same inequality holds for any unitarily invariant norm.\n",
    ":::"
   ]
  },
  {
   "cell_type": "markdown",
   "metadata": {},
   "source": []
  }
 ],
 "metadata": {
  "kernelspec": {
   "display_name": "Python 3",
   "language": "python",
   "name": "python3"
  },
  "language_info": {
   "codemirror_mode": {
    "name": "ipython",
    "version": 3
   },
   "file_extension": ".py",
   "mimetype": "text/x-python",
   "name": "python",
   "nbconvert_exporter": "python",
   "pygments_lexer": "ipython3",
   "version": "3.8.5"
  }
 },
 "nbformat": 4,
 "nbformat_minor": 4
}
