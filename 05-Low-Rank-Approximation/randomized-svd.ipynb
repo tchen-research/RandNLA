{
 "cells": [
  {
   "cell_type": "markdown",
   "metadata": {},
   "source": [
    "---\n",
    "title: Randomized SVD\n",
    "description: Randomized singular value decomposition algorithm for efficient low-rank matrix approximation\n",
    "keywords: [randomized SVD, singular value decomposition, low-rank approximation, matrix factorization, dimensionality reduction, random projection]\n",
    "numbering:\n",
    "  equation:\n",
    "    enumerator: 5.%s\n",
    "    continue: true\n",
    "  proof:theorem:\n",
    "    enumerator: 5.%s\n",
    "    continue: true\n",
    "  proof:algorithm:\n",
    "    enumerator: 5.%s\n",
    "    continue: true\n",
    "  proof:definition:\n",
    "    enumerator: 5.%s\n",
    "    continue: true\n",
    "  proof:proposition:\n",
    "    enumerator: 5.%s\n",
    "    continue: true\n",
    "---"
   ]
  },
  {
   "cell_type": "markdown",
   "metadata": {},
   "source": [
    ":::{prf:algorithm} Randomized SVD\n",
    ":label: alg-randomized-svd\n",
    "\n",
    "\n",
    "\n",
    "**Input:** Matrix $A \\in \\R^{m \\times n}$, target rank $k$, block-size $b\\geq k$\n",
    "\n",
    "1. Sample a random sketching matrix $\\vec{\\Omega}\\sim\\Call{Sketch}(n,b)$\n",
    "1. Compute $\\vec{Y} = \\vec{A} \\vec{\\Omega}$\n",
    "1. Compute QR factorization $\\vec{Q}\\vec{R} = \\Call{qr}(\\vec{Y})$\n",
    "1. Compute $\\vec{X} = \\vec{A}^\\T \\vec{Q}$\n",
    "\n",
    "**Output:** $\\vec{Q}\\vec{X}^\\T$\n",
    ":::\n",
    "\n",
    "Note that the output can be easily factored into an \"SVD-like\" form $\\vec{U} \\vec{\\Sigma} \\vec{V}^\\T$ by computing the SVD $\\vec{U}'\\vec{\\Sigma}\\vec{V} = \\Call{svd}(\\vec{X})$ and then setting $\\vec{U} = \\vec{Q}\\vec{U}'$.\n",
    "\n",
    "The approximation is not necessarily of rank-$k$. In most cases this is not an issue, but if a rank-$k$ approximation is required, one can simply truncate the approximate SVD to the first $k$ singular values; i.e. output $\\vec{Q} \\llbracket \\vec{X} \\rrbracket_k^\\T$.\n",
    "\n",
    "\n",
    "## Analysis overview\n",
    "\n",
    "\n",
    "\\begin{equation}\n",
    "\\vec{A} \n",
    "= \n",
    "\\vec{U} \\begin{bmatrix} \\vec{\\Sigma}_1 \\\\ & \\vec{\\Sigma}_2 \\end{bmatrix} \n",
    "\\begin{bmatrix} \\vec{V}_1^\\T \\\\ \\vec{V}_2^\\T \\end{bmatrix}\n",
    "\\end{equation}\n",
    "\n",
    "\n",
    ":::{prf:theorem}\n",
    "Suppose we use a Gaussian sketch. \n",
    "mFor any $p\\geq 2$, \n",
    "\\begin{equation*}\n",
    "\\EE\\left[ \\| \\vec{A} - \\vec{U}\\vec{\\Sigma}\\vec{V}^\\T \\|_\\F^2 \\right] \\leq \\left( 1 + \\frac{k}{b-k-1} \\right) \\| \\vec{A} - \\llbracket \\vec{A} \\rrbracket_k \\|_\\F^2 .\n",
    "\\end{equation*}\n",
    ":::\n",
    "\n",
    ":::{prf:proof}\n",
    ":class: dropdown\n",
    ":enumerated: false\n",
    "\n",
    "TODO\n",
    ":::\n"
   ]
  },
  {
   "cell_type": "markdown",
   "metadata": {},
   "source": [
    "## Numerical Example"
   ]
  }
 ],
 "metadata": {
  "kernelspec": {
   "display_name": "Python 3",
   "language": "python",
   "name": "python3"
  },
  "language_info": {
   "codemirror_mode": {
    "name": "ipython",
    "version": 3
   },
   "file_extension": ".py",
   "mimetype": "text/x-python",
   "name": "python",
   "nbconvert_exporter": "python",
   "pygments_lexer": "ipython3",
   "version": "3.8.5"
  }
 },
 "nbformat": 4,
 "nbformat_minor": 4
}
