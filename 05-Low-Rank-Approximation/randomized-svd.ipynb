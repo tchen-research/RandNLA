{
 "cells": [
  {
   "cell_type": "markdown",
   "metadata": {},
   "source": "---\ntitle: Randomized SVD\ndescription: Randomized singular value decomposition algorithm for efficient low-rank matrix approximation\nkeywords: [randomized SVD, singular value decomposition, low-rank approximation, matrix factorization, dimensionality reduction, random projection]\nnumbering:\n  equation:\n    enumerator: 5.%s\n    continue: true\n  proof:theorem:\n    enumerator: 5.%s\n    continue: true\n  proof:algorithm:\n    enumerator: 5.%s\n    continue: true\n  proof:definition:\n    enumerator: 5.%s\n    continue: true\n  proof:proposition:\n    enumerator: 5.%s\n    continue: true\n---\n\nThis notebook covers the randomized singular value decomposition algorithm."
  },
  {
   "cell_type": "code",
   "execution_count": null,
   "metadata": {},
   "outputs": [],
   "source": []
  }
 ],
 "metadata": {
  "kernelspec": {
   "display_name": "Python 3",
   "language": "python",
   "name": "python3"
  },
  "language_info": {
   "codemirror_mode": {
    "name": "ipython",
    "version": 3
   },
   "file_extension": ".py",
   "mimetype": "text/x-python",
   "name": "python",
   "nbconvert_exporter": "python",
   "pygments_lexer": "ipython3",
   "version": "3.8.5"
  }
 },
 "nbformat": 4,
 "nbformat_minor": 4
}