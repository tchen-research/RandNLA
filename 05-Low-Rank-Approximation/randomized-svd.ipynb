{
 "cells": [
  {
   "cell_type": "markdown",
   "metadata": {},
   "source": [
    "---\n",
    "title: Randomized SVD\n",
    "description: Randomized singular value decomposition algorithm for efficient low-rank matrix approximation\n",
    "keywords: [randomized SVD, singular value decomposition, low-rank approximation, matrix factorization, dimensionality reduction, random projection]\n",
    "numbering:\n",
    "  equation:\n",
    "    enumerator: 5.%s\n",
    "    continue: true\n",
    "  proof:theorem:\n",
    "    enumerator: 5.%s\n",
    "    continue: true\n",
    "  proof:algorithm:\n",
    "    enumerator: 5.%s\n",
    "    continue: true\n",
    "  proof:definition:\n",
    "    enumerator: 5.%s\n",
    "    continue: true\n",
    "  proof:proposition:\n",
    "    enumerator: 5.%s\n",
    "    continue: true\n",
    "---\n"
   ]
  },
  {
   "cell_type": "markdown",
   "metadata": {},
   "source": [
    ":::{prf:algorithm} Randomized SVD\n",
    ":label: alg-randomized-svd\n",
    "\n",
    "**Input:** Matrix $A \\in \\R^{m \\times n}$, target rank $k$, oversampling parameter $p$\n",
    "\n",
    "1. Sample a random Gaussian matrix $\\vec{\\Omega} \\in \\R^{n \\times (k+p)}$\n",
    "1. Compute $\\vec{Y} = \\vec{A} \\vec{\\Omega}$\n",
    "1. Compute QR factorization $\\vec{Q}\\vec{R} = \\Call{qr}(\\vec{Y})$\n",
    "1. Compute $\\vec{X} = \\vec{Q}^\\T \\vec{A}$\n",
    "1. Compute SVD $\\vec{U}'\\vec{\\Sigma}\\vec{V} = \\Call{svd}(\\vec{X})$\n",
    "1. Set $\\vec{U} = \\vec{Q}\\vec{U}'$\n",
    "\n",
    "**Output:** $\\vec{U} \\vec{\\Sigma} \\vec{V}^\\T$ \n",
    ":::\n",
    "\n",
    "\n",
    ":::{prf:theorem}\n",
    "For any $p\\geq 2$, \n",
    "\\begin{equation*}\n",
    "\\EE\\left[ \\| \\vec{A} - \\vec{U}\\vec{\\Sigma}\\vec{V}^\\T \\|_\\F^2 \\right] \\leq \\left( 1 + \\frac{k}{p-1} \\right) \\| \\vec{A} - \\llbracket \\vec{A} \\rrbracket_k \\|_\\F^2 .\n",
    "\\end{equation*}\n",
    ":::\n",
    "\n",
    ":::{admonition} Proof\n",
    ":class: dropdown\n",
    "\n",
    "TODO\n",
    ":::"
   ]
  },
  {
   "cell_type": "markdown",
   "metadata": {},
   "source": [
    "## Numerical Example"
   ]
  }
 ],
 "metadata": {
  "kernelspec": {
   "display_name": "Python 3",
   "language": "python",
   "name": "python3"
  },
  "language_info": {
   "codemirror_mode": {
    "name": "ipython",
    "version": 3
   },
   "file_extension": ".py",
   "mimetype": "text/x-python",
   "name": "python",
   "nbconvert_exporter": "python",
   "pygments_lexer": "ipython3",
   "version": "3.8.5"
  }
 },
 "nbformat": 4,
 "nbformat_minor": 4
}
