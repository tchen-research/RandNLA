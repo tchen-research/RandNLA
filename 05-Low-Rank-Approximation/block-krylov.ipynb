{
 "cells": [
  {
   "cell_type": "markdown",
   "metadata": {},
   "source": [
    "---\n",
    "title: Block Krylov Iteration\n",
    "description: Advanced techniques for improved accuracy and robustness in randomized low-rank approximation\n",
    "keywords: [subspace iteration, block Krylov, power iteration, Krylov subspace, iterative methods, spectral gap, convergence acceleration]\n",
    "numbering:\n",
    "  equation:\n",
    "    enumerator: 5.%s\n",
    "    continue: true\n",
    "  proof:theorem:\n",
    "    enumerator: 5.%s\n",
    "    continue: true\n",
    "  proof:algorithm:\n",
    "    enumerator: 5.%s\n",
    "    continue: true\n",
    "  proof:definition:\n",
    "    enumerator: 5.%s\n",
    "    continue: true\n",
    "  proof:proposition:\n",
    "    enumerator: 5.%s\n",
    "    continue: true\n",
    "---\n",
    "\n"
   ]
  },
  {
   "cell_type": "markdown",
   "metadata": {},
   "source": [
    "In order to produce $(\\vec{A}\\vec{A}^\\T)^q\\vec{A}\\vec{\\Omega}$, we require the same number of matrix-vector products as would be required to form a basis for the block Krylov subspace\n",
    "\\begin{equation*}\n",
    "\\mathcal{K}_{q+1}(\\vec{A}\\vec{A}^\\T,\\vec{A}\\vec{\\Omega})\n",
    ":= \\operatorname{span}\\{\\vec{A}\\vec{\\Omega}, (\\vec{A}\\vec{A}^\\T)\\vec{A}\\vec{\\Omega}, \\ldots, (\\vec{A}\\vec{A}^\\T)^q\\vec{A}\\vec{\\Omega}\\}.\n",
    "\\end{equation*}\n",
    "The *Randomized Block Krylov Iteration* (RBKI) approximation is:\n",
    "\\begin{equation}\n",
    "\\widehat{\\vec{A}} = \\vec{Q}\\vec{Q}^\\T \\vec{A},\n",
    "\\quad \n",
    "\\vec{Q} = \\Call{orth}(\\mathcal{K}_t(\\vec{A}\\vec{A}^\\T,\\vec{A}\\vec{\\Omega})).\n",
    "\\end{equation}"
   ]
  },
  {
   "cell_type": "markdown",
   "metadata": {
    "vscode": {
     "languageId": "plaintext"
    }
   },
   "source": [
    "## Convergence Guarantees\n",
    "\n",
    "{cite:p}`chen_epperly_meyer_musco_musco_rao_25`\n",
    "\n",
    "\n",
    ":::{prf:theorem} \n",
    "Let $\\widehat{\\vec{A}}$ be the rank-$k$ approximation to $\\vec{A}$ produced by RBKI after $t$ iterations. \n",
    "Then for some\n",
    "\\begin{equation*}\n",
    "t = \\tilde{O}\\left( \\frac{k/b}{\\sqrt{\\varepsilon}}  \\right).\n",
    "\\end{equation*}\n",
    "it holds that\n",
    "\\begin{equation*}\n",
    "\\|\\vec{A} - \\widehat{\\vec{A}}\\| \\leq (1+\\varepsilon) \\|\\vec{A} - \\llbracket \\vec{A} \\rrbracket_k\\|.\n",
    "\\end{equation*}\n",
    "::: \n",
    "\n",
    "Non-asymptotic bounds for RSVD, RSI, and RBKI can be found in {cite:p}`tropp_webber_23`"
   ]
  },
  {
   "cell_type": "code",
   "execution_count": null,
   "metadata": {
    "vscode": {
     "languageId": "plaintext"
    }
   },
   "outputs": [],
   "source": []
  }
 ],
 "metadata": {
  "kernelspec": {
   "display_name": "Python 3",
   "language": "python",
   "name": "python3"
  },
  "language_info": {
   "codemirror_mode": {
    "name": "ipython",
    "version": 3
   },
   "file_extension": ".py",
   "mimetype": "text/x-python",
   "name": "python",
   "nbconvert_exporter": "python",
   "pygments_lexer": "ipython3",
   "version": "3.8.5"
  }
 },
 "nbformat": 4,
 "nbformat_minor": 4
}
