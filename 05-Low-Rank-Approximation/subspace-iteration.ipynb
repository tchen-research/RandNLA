{
 "cells": [
  {
   "cell_type": "markdown",
   "metadata": {},
   "source": [
    "---\n",
    "title: Subspace Iteration\n",
    "description: Advanced techniques for improved accuracy and robustness in randomized low-rank approximation\n",
    "keywords: [subspace iteration, block Krylov, power iteration, Krylov subspace, iterative methods, spectral gap, convergence acceleration]\n",
    "numbering:\n",
    "  equation:\n",
    "    enumerator: 5.%s\n",
    "    continue: true\n",
    "  proof:theorem:\n",
    "    enumerator: 5.%s\n",
    "    continue: true\n",
    "  proof:algorithm:\n",
    "    enumerator: 5.%s\n",
    "    continue: true\n",
    "  proof:definition:\n",
    "    enumerator: 5.%s\n",
    "    continue: true\n",
    "  proof:proposition:\n",
    "    enumerator: 5.%s\n",
    "    continue: true\n",
    "  figure:\n",
    "    enumerator: 5.%s\n",
    "    continue: true\n",
    "---\n",
    "\n"
   ]
  },
  {
   "cell_type": "markdown",
   "metadata": {},
   "source": [
    "The [Randomized SVD](alg-randomized-svd) (RSVD) produces an approximation\n",
    "\\begin{equation}\n",
    "\\widehat{\\vec{A}} = \\vec{Q}\\vec{Q}^\\T \\vec{A},\n",
    "\\quad \n",
    "\\vec{Q} = \\Call{orth}(\\vec{A}\\vec{\\Omega}),\n",
    "\\end{equation}\n",
    "where $\\vec{\\Omega}\\sim \\operatorname{Gaussian}(n,b)$.\n",
    "Ideally $\\vec{Q}$ is well-aligned with the dominant subspace of $\\vec{A}$. \n",
    "However, the approximation can be poor if the singular values of $\\vec{A}$ decay slowly or if the spectral gap is small."
   ]
  },
  {
   "cell_type": "markdown",
   "metadata": {},
   "source": [
    "One way to mitigate this, is to damp down the tail of $\\vec{A}$ relative to the leading singular values. \n",
    "In particular, observe that if $\\vec{A}$ as (thin) SVD $\\vec{A} = \\vec{U}\\vec{\\Sigma}\\vec{V}^\\T$, \n",
    "\\begin{equation}\n",
    "(\\vec{A}\\vec{A}^\\T)^q\\vec{A} = \\vec{U} \\vec{\\Sigma}^{2q+1} \\vec{V}^\\T.\n",
    "\\end{equation}\n",
    "The singular values of $(\\vec{A}\\vec{A}^\\T)^q\\vec{A}$ are the singular values of $\\vec{A}$ raised to the power $2q+1$.\n",
    "Thus, as illustrated in {eq}`fig-SI` the small singular values become smaller relative to the large ones.\n",
    "\n",
    ":::{figure}\n",
    ":label: fig-si\n",
    "Observe that the singular values tail of $(\\vec{A}\\vec{A}^\\T)^q\\vec{A}$ is damped substantially relative to that of $\\vec{A}$.\n",
    "\n",
    "![fdas](./SI.svg)\n",
    ":::\n",
    "\n",
    "\n",
    "This leads to the *Randomized Subspace Iteration* (RSI) approximation:\n",
    "\\begin{equation}\n",
    "\\widehat{\\vec{A}} = \\vec{Q}\\vec{Q}^\\T \\vec{A},\n",
    "\\quad \n",
    "\\vec{Q} = \\Call{orth}((\\vec{A}\\vec{A}^\\T)^q\\vec{A}\\vec{\\Omega}).\n",
    "\\end{equation}\n",
    "Observe that $(\\vec{A}\\vec{A}^\\T)^q\\vec{A}\\vec{\\Omega}$ can be computed by sequential products with $\\vec{A}$ and $\\vec{A}^\\T$.\n",
    "In particular, we never need to form the (potentially large) matrix $\\vec{A}\\vec{A}^\\T$ explicitly.\n",
    "\n",
    "\n",
    "\n",
    ":::{prf:algorithm} Randomized Subspace Iteration\n",
    ":label: alg-RSI\n",
    "\n",
    "**Input:** Matrix $A \\in \\R^{m \\times n}$, target rank $k$, iteratoni bound $q$, block-size $b\\geq k$\n",
    "\n",
    "1. Sample a random sketching matrix $\\vec{\\Omega}\\sim\\Call{Sketch}(n,b)$\n",
    "1. Compute $\\vec{Y} = \\vec{A} \\vec{\\Omega}$\n",
    "1. For $i=1,\\ldots,q$:\n",
    "   - Compute $\\vec{Y} = \\vec{A}^\\T \\vec{Y}$\n",
    "    - Compute $\\vec{Y} = \\vec{A} \\vec{Y}$\n",
    "1. Compute QR factorization $\\vec{Q}\\vec{R} = \\Call{qr}(\\vec{Y})$\n",
    "1. Compute $\\vec{X} = \\vec{A}^\\T \\vec{Q}$\n",
    "\n",
    "**Output:** $\\vec{Q}\\vec{X}^\\T$\n",
    ":::"
   ]
  },
  {
   "cell_type": "code",
   "execution_count": 14,
   "metadata": {
    "tags": [
     "remove-cell"
    ]
   },
   "outputs": [],
   "source": [
    "import numpy as np\n",
    "import matplotlib.pyplot as plt\n",
    "\n",
    "d = 20\n",
    "Λ = np.sort(np.linspace(0,.9,d) + 1e-1*np.random.rand(d))[::-1]\n",
    "Λ[0] = 1\n",
    "\n",
    "\n",
    "fig,axs = plt.subplots(1,4,figsize=(8,4),sharey=True)\n",
    "\n",
    "qs = [1,2,4]\n",
    "axs[0].plot(np.arange(d),Λ,ls='None',marker='o',label='original singular values')\n",
    "axs[0].set_title('original ($q=0$)')\n",
    "axs[0].set_xlabel('index $i$')\n",
    "\n",
    "for i,q in enumerate(qs):\n",
    "    ax = axs[i+1]\n",
    "\n",
    "    ax.plot(np.arange(d),Λ**(2*q+1),ls='None',marker='o',label=r'$\\sigma_i(A)^{2q+1}$')\n",
    "\n",
    "    ax.set_title(f'$q={q}$')\n",
    "\n",
    "    ax.set_xlabel('index $i$')\n",
    "\n",
    "axs[0].set_ylabel('singular value')\n",
    "plt.savefig('SI.svg')"
   ]
  },
  {
   "cell_type": "markdown",
   "metadata": {},
   "source": []
  }
 ],
 "metadata": {
  "kernelspec": {
   "display_name": "base",
   "language": "python",
   "name": "python3"
  },
  "language_info": {
   "codemirror_mode": {
    "name": "ipython",
    "version": 3
   },
   "file_extension": ".py",
   "mimetype": "text/x-python",
   "name": "python",
   "nbconvert_exporter": "python",
   "pygments_lexer": "ipython3",
   "version": "3.10.9"
  }
 },
 "nbformat": 4,
 "nbformat_minor": 4
}
