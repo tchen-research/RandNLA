{
 "cells": [
  {
   "cell_type": "markdown",
   "metadata": {},
   "source": [
    "---\n",
    "title: Subspace Iteration and Block Krylov\n",
    "description: Advanced techniques for improved accuracy and robustness in randomized low-rank approximation\n",
    "keywords: [subspace iteration, block Krylov, power iteration, Krylov subspace, iterative methods, spectral gap, convergence acceleration]\n",
    "numbering:\n",
    "  equation:\n",
    "    enumerator: 5.%s\n",
    "    continue: true\n",
    "  proof:theorem:\n",
    "    enumerator: 5.%s\n",
    "    continue: true\n",
    "  proof:algorithm:\n",
    "    enumerator: 5.%s\n",
    "    continue: true\n",
    "  proof:definition:\n",
    "    enumerator: 5.%s\n",
    "    continue: true\n",
    "  proof:proposition:\n",
    "    enumerator: 5.%s\n",
    "    continue: true\n",
    "---\n",
    "\n"
   ]
  },
  {
   "cell_type": "markdown",
   "metadata": {},
   "source": [
    "The [Randomized SVD](alg-randomized-svd) (RSVD) produces an approximation\n",
    "\\begin{equation}\n",
    "\\widehat{\\vec{A}} = \\vec{Q}\\vec{Q}^\\T \\vec{A},\n",
    "\\quad \n",
    "\\vec{Q} = \\Call{orth}(\\vec{A}\\vec{\\Omega}),\n",
    "\\end{equation}\n",
    "where $\\vec{\\Omega}\\sim \\operatorname{Gaussian}(n,b)$.\n",
    "The main downside to the Randomized SVD is that the accuracy of the approximation can be bad if $\\vec{A}$ has a heavy singular value tail."
   ]
  },
  {
   "cell_type": "markdown",
   "metadata": {},
   "source": [
    "\n",
    "## Subspace iteration\n",
    "One way to mitigate this, is to damp down the tail of $\\vec{A}$ relative to the leading singular values. \n",
    "In particular, observe that if $\\vec{A}$ as (thin) SVD $\\vec{A} = \\vec{U}\\vec{\\Sigma}\\vec{V}^\\T$, \n",
    "\\begin{equation*}\n",
    "(\\vec{A}\\vec{A}^\\T)^q\\vec{A} = \\vec{U} \\vec{\\Sigma}^{2q+1} \\vec{V}^\\T.\n",
    "\\end{equation*}\n",
    "The singular values of $(\\vec{A}\\vec{A}^\\T)^q\\vec{A}$ are the singular values of $\\vec{A}$ raised to the power $2q+1$.\n",
    "Thus, the small singular values become smaller relative to the large ones.\n",
    "This leads to the *Randomized Subspace Iteration* (RSI) approximation:\n",
    "\\begin{equation}\n",
    "\\widehat{\\vec{A}} = \\vec{Q}\\vec{Q}^\\T \\vec{A},\n",
    "\\quad \n",
    "\\vec{Q} = \\Call{orth}((\\vec{A}\\vec{A}^\\T)^q\\vec{A}\\vec{\\Omega}).\n",
    "\\end{equation}\n",
    "\n",
    "Observe that $(\\vec{A}\\vec{A}^\\T)^q\\vec{A}\\vec{\\Omega}$ can be computed by sequential products with $\\vec{A}$ and $\\vec{A}^\\T$.\n",
    "In particular, we never need to form the (potentially large) matrix $\\vec{A}\\vec{A}^\\T$ explicitly.\n",
    "\n",
    "\n"
   ]
  },
  {
   "cell_type": "markdown",
   "metadata": {},
   "source": [
    "\n",
    "## Block Krylov\n",
    "\n",
    "In order to produce $(\\vec{A}\\vec{A}^\\T)^q\\vec{A}\\vec{\\Omega}$, we require the same number of matrix-vector products as would be required to form a basis for the block Krylov subspace\n",
    "\\begin{equation*}\n",
    "\\mathcal{K}_{q+1}(\\vec{A}\\vec{A}^\\T,\\vec{A}\\vec{\\Omega})\n",
    ":= \\operatorname{span}\\{\\vec{A}\\vec{\\Omega}, (\\vec{A}\\vec{A}^\\T)\\vec{A}\\vec{\\Omega}, \\ldots, (\\vec{A}\\vec{A}^\\T)^q\\vec{A}\\vec{\\Omega}\\}.\n",
    "\\end{equation*}\n",
    "The *Randomized Block Krylov Iteration* (RBKI) approximation is:\n",
    "\\begin{equation}\n",
    "\\widehat{\\vec{A}} = \\vec{Q}\\vec{Q}^\\T \\vec{A},\n",
    "\\quad \n",
    "\\vec{Q} = \\Call{orth}(\\mathcal{K}_t(\\vec{A}\\vec{A}^\\T,\\vec{A}\\vec{\\Omega})).\n",
    "\\end{equation}"
   ]
  },
  {
   "cell_type": "markdown",
   "metadata": {
    "vscode": {
     "languageId": "plaintext"
    }
   },
   "source": [
    "## Convergence Guarantees\n",
    "\n",
    "{cite:p}`chen_epperly_meyer_musco_musco_rao_25`\n",
    "\n",
    "\n",
    ":::{prf:theorem} \n",
    "Let $\\widehat{\\vec{A}}$ be the rank-$k$ approximation to $\\vec{A}$ produced by RBKI after $t$ iterations. \n",
    "Then for some\n",
    "\\begin{equation*}\n",
    "t = \\tilde{O}\\left( \\frac{k/b}{\\sqrt{\\varepsilon}}  \\right).\n",
    "\\end{equation*}\n",
    "it holds that\n",
    "\\begin{equation*}\n",
    "\\|\\vec{A} - \\widehat{\\vec{A}}\\| \\leq (1+\\varepsilon) \\|\\vec{A} - \\llbracket \\vec{A} \\rrbracket_k\\|.\n",
    "\\end{equation*}\n",
    "::: \n",
    "\n",
    "Non-asymptotic bounds for RSVD, RSI, and RBKI can be found in {cite:p}`tropp_webber_23`"
   ]
  },
  {
   "cell_type": "code",
   "execution_count": null,
   "metadata": {
    "vscode": {
     "languageId": "plaintext"
    }
   },
   "outputs": [],
   "source": []
  }
 ],
 "metadata": {
  "kernelspec": {
   "display_name": "Python 3",
   "language": "python",
   "name": "python3"
  },
  "language_info": {
   "codemirror_mode": {
    "name": "ipython",
    "version": 3
   },
   "file_extension": ".py",
   "mimetype": "text/x-python",
   "name": "python",
   "nbconvert_exporter": "python",
   "pygments_lexer": "ipython3",
   "version": "3.8.5"
  }
 },
 "nbformat": 4,
 "nbformat_minor": 4
}
