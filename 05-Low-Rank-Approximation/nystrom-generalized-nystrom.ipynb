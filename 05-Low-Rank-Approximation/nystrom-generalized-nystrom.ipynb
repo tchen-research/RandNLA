{
 "cells": [
  {
   "cell_type": "markdown",
   "metadata": {},
   "source": [
    "---\n",
    "title: Nyström and Generalized Nyström\n",
    "description: Nyström methods for low-rank approximation of symmetric and positive semidefinite matrices\n",
    "keywords: [Nyström method, generalized Nyström, symmetric matrices, positive semidefinite, kernel matrices, column sampling, eigenvalue decomposition]\n",
    "numbering:\n",
    "  equation:\n",
    "    enumerator: 5.%s\n",
    "    continue: true\n",
    "  proof:theorem:\n",
    "    enumerator: 5.%s\n",
    "    continue: true\n",
    "  proof:algorithm:\n",
    "    enumerator: 5.%s\n",
    "    continue: true\n",
    "  proof:definition:\n",
    "    enumerator: 5.%s\n",
    "    continue: true\n",
    "  proof:proposition:\n",
    "    enumerator: 5.%s\n",
    "    continue: true\n",
    "---"
   ]
  },
  {
   "cell_type": "markdown",
   "metadata": {},
   "source": [
    "The [Randomized SVD](alg-randomized-svd) (RSVD) and improvements require multiple passes over $\\vec{A}$.\n",
    "In some cases, it may be advantageous to use a method that only requires a single pass over $\\vec{A}$. \n",
    "\n",
    "\n",
    "Note that the matrix $\\vec{X} = \\vec{A}^\\T\\vec{Q}$ computed by the RSVD is the matrix of coefficients for the linear combination of the columns of $\\vec{Q}$ that best approximates the columns of $\\vec{A}$. \n",
    "That is,\n",
    "\\begin{equation*}\n",
    "\\vec{A}\\vec{Q}\n",
    "= \n",
    "\\argmin_{\\vec{X}} \\| \\vec{A} - \\vec{Q}\\vec{X}^\\T \\|_\\F.\n",
    "\\end{equation*}\n",
    "Consider instead the sketched regression problem\n",
    "\\begin{equation*}\n",
    "\\argmin_{\\vec{X}} \\| \\vec{\\Phi}^\\T \\vec{A} - \\vec{\\Phi}^\\T \\vec{Q}\\vec{X}^\\T \\|_\\F.\n",
    "\\end{equation*}\n",
    "Note that if we choose $\\vec{\\Phi}$ in a way that does not require knowledge of $\\vec{Q}$, then we can perform all products with $\\vec{A}$ in a single pass.\n",
    "\n",
    "This results in the following algorihtm.\n",
    "\n",
    ":::{prf:algorithm} Generalized Nyström\n",
    ":label: alg-Generalized Nyström\n",
    "\n",
    "**Input:** Matrix $A \\in \\R^{m \\times n}$, target rank $k$, block-sizes $b,c\\geq k$\n",
    "\n",
    "1. Sample a random sketching matrix $\\vec{\\Omega}\\sim\\Call{Sketch}(n,b)$\n",
    "1. Sample a random sketching matrix $\\vec{\\Psi}\\sim\\Call{Sketch}(d,c)$\n",
    "1. Compute $\\vec{Y} = \\vec{A} \\vec{\\Omega}$ and $\\vec{Z} = \\vec{A}^\\T \\vec{\\Psi}$\n",
    "1. Compute QR factorization $\\vec{Q}\\vec{R} = \\Call{qr}(\\vec{Y})$\n",
    "1. Compute $\\vec{X} = (\\vec{\\Psi}^\\T\\vec{Q})^+\\vec{Z}^\\T$\n",
    "\n",
    "**Output:** $\\vec{Q}\\vec{X}^\\T$\n",
    ":::\n",
    "\n",
    "## Symmetric Case\n",
    "\n",
    "In the case $\\vec{A}$ is symmetric positive definite, then we can take $\\vec{\\Psi} = \\vec{\\Omega}$, and the algorithm becomes the Nyström method.\n",
    "The resulting approximation is \n",
    "\\begin{equation*}\n",
    "\\vec{A} \\langle \\vec{\\Omega}\\rangle := \\vec{A}\\vec{\\Omega} ( \\vec{\\Omega}^\\T\\vec{A}\\vec{\\Omega})^+ \\vec{\\Omega}^\\T\\vec{A}.\n",
    "\\end{equation*}\n",
    "\n",
    "In fact, at the cost of more passes over the data, we can replace $\\vec{\\Omega}$ with a basis for a Krylov subspace. \n",
    "The result algorithm improves on [Randomized block Krylov iteration](./subspace-iteration-block-krylov.ipynb).\n",
    "\n",
    "\n",
    "\n"
   ]
  }
 ],
 "metadata": {
  "kernelspec": {
   "display_name": "Python 3",
   "language": "python",
   "name": "python3"
  },
  "language_info": {
   "codemirror_mode": {
    "name": "ipython",
    "version": 3
   },
   "file_extension": ".py",
   "mimetype": "text/x-python",
   "name": "python",
   "nbconvert_exporter": "python",
   "pygments_lexer": "ipython3",
   "version": "3.8.5"
  }
 },
 "nbformat": 4,
 "nbformat_minor": 4
}
