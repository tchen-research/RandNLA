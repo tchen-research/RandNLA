{
 "cells": [
  {
   "cell_type": "markdown",
   "metadata": {},
   "source": [
    "---\n",
    "title: Cholesky QR\n",
    "description: High-performance QR factorization using Cholesky decomposition of the Gram matrix for improved computational efficiency\n",
    "keywords: [Cholesky QR, Gram matrix, matrix multiplication, numerical stability, condition number, QR factorization]\n",
    "numbering:\n",
    "  equation:\n",
    "    enumerator: 3.%s\n",
    "    continue: true\n",
    "  proof:theorem:\n",
    "    enumerator: 3.%s\n",
    "    continue: true\n",
    "  proof:algorithm:\n",
    "    enumerator: 3.%s\n",
    "    continue: true\n",
    "  proof:definition:\n",
    "    enumerator: 3.%s\n",
    "    continue: true\n",
    "  proof:proposition:\n",
    "    enumerator: 3.%s\n",
    "    continue: true\n",
    "---\n",
    "\n",
    "The main downside to classical QR algorithms is that they are sequential. As we have [seen](../01-Background/cost-of-numerical-linear-algebra.ipynb), we get a much higher flop rate with matrix-multiplication than with matrix factorization. \n",
    "We can use this to our advantage by computing a QR factorization using the Cholesky factorization of the Gram matrix $\\vec{A}^\\T\\vec{A}$.\n",
    "\n",
    "\n",
    ":::{prf:algorithm} CholeskyQR\n",
    ":label: cholesky-qr\n",
    "\n",
    "**Input:** $\\vec{A}\\in\\R^{n\\times d}$\n",
    "\n",
    "1. Form $\\vec{X} = \\vec{A}^\\T\\vec{A}$\n",
    "1. Compute Choleksy factorization $\\vec{R} = \\Call{chol}(\\vec{X})$\n",
    "1. Form $\\vec{Q} = \\vec{A}\\vec{R}^{-1}$\n",
    "\n",
    "**Output:** $\\vec{Q}, \\vec{R}$\n",
    ":::\n",
    "\n",
    "This algorithm is easily implemented in Numpy."
   ]
  },
  {
   "cell_type": "code",
   "execution_count": 90,
   "metadata": {},
   "outputs": [],
   "source": [
    "def cholesky_QR(A):\n",
    "\n",
    "    X = A.T@A\n",
    "    R = np.linalg.cholesky(X).T\n",
    "    Q = sp.linalg.solve_triangular(R.T, A.T, lower=True).T\n",
    "\n",
    "    return Q, R"
   ]
  },
  {
   "cell_type": "markdown",
   "metadata": {},
   "source": "Note that the cost of this algorithm is dominated by the matrix-matrix product in the first line, which costs $O(nd^2)$ operations. \nThus, we might hope that this algorithm runs faster in practice than standard QR factorization algorithms.\n\nThis algorithm is mathematically exact; i.e. in exact arithmetic, it will produce a true QR factorization.\n\n```{prf:theorem}\nThe output of {prf:ref}`cholesky-qr` is a QR factorization of $\\vec{A}$, i.e., $\\vec{A} = \\vec{Q}\\vec{R}$ where $\\vec{Q}$ has orthonormal columns and $\\vec{R}$ is upper triangular.\n```\n\n```{prf:proof}\n:class: dropdown\n:enumerated: false\n\nBy construction $\\vec{R}$ is upper triangular and $\\vec{A} = \\vec{Q}\\vec{R}$.\nSince $\\vec{R}$ is the Cholesky factorization of $\\vec{A}^\\T\\vec{A}$, we have that $\\vec{R}^\\T\\vec{R} = \\vec{A}^\\T\\vec{A}$.\nThis means that $\\vec{Q}^\\T \\vec{Q} = \\vec{R}^{-\\T}\\vec{A}^\\T\\vec{A}\\vec{R}^{-1} = \\vec{R}^{-\\T}\\vec{R}^{-\\T}\\vec{R}^\\T\\vec{R}\\vec{R}^{-1} = \\vec{I}$, so $\\vec{Q}$ is orthogonal.\n```\n\nHowever, the presence of the Gram matrix $\\vec{A}^\\T\\vec{A}$ is worrying numerically, since $\\cond(\\vec{A}^\\T\\vec{A}) = \\cond(\\vec{A})^2$."
  },
  {
   "cell_type": "markdown",
   "metadata": {},
   "source": [
    "\n",
    "## Numerical Experiment\n",
    "\n",
    "Let's try to understand the performance of Cholesky QR relative to "
   ]
  },
  {
   "cell_type": "code",
   "execution_count": 77,
   "metadata": {
    "tags": [
     "remove-cell"
    ]
   },
   "outputs": [],
   "source": [
    "import numpy as np\n",
    "import scipy as sp\n",
    "import time\n",
    "import pandas as pd"
   ]
  },
  {
   "cell_type": "code",
   "execution_count": 89,
   "metadata": {},
   "outputs": [],
   "source": [
    "# Generate a random matrix with controlled condition number\n",
    "n = 5000\n",
    "d = 300\n",
    "\n",
    "U, s, Vt = np.linalg.svd(np.random.rand(n, d), full_matrices=False)\n",
    "s = np.geomspace(1e-4, 1, d)  # Controlled singular values for numerical stability\n",
    "A = U @ np.diag(s) @ Vt"
   ]
  },
  {
   "cell_type": "code",
   "execution_count": 91,
   "metadata": {},
   "outputs": [],
   "source": [
    "# Define QR factorization methods and their theoretical flop counts\n",
    "qr_methods = {\n",
    "    'Householder QR': {\n",
    "        'func': lambda: np.linalg.qr(A,mode='reduced'),\n",
    "        'flops': 2 * n * d**2 - (2/3) * d**3\n",
    "    },\n",
    "    'Cholesky QR': {\n",
    "        'func': lambda: cholesky_QR(A),\n",
    "        'flops': 2 * n * d**2 + d**3/3  # A.T@A + Cholesky + triangular solve\n",
    "    }\n",
    "}"
   ]
  },
  {
   "cell_type": "code",
   "execution_count": 109,
   "metadata": {
    "tags": [
     "hide-input"
    ]
   },
   "outputs": [
    {
     "data": {
      "text/html": [
       "<style type=\"text/css\">\n",
       "</style>\n",
       "<table id=\"T_b98ff\">\n",
       "  <thead>\n",
       "    <tr>\n",
       "      <th class=\"blank level0\" >&nbsp;</th>\n",
       "      <th id=\"T_b98ff_level0_col0\" class=\"col_heading level0 col0\" >method</th>\n",
       "      <th id=\"T_b98ff_level0_col1\" class=\"col_heading level0 col1\" >time (s)</th>\n",
       "      <th id=\"T_b98ff_level0_col2\" class=\"col_heading level0 col2\" >speedup</th>\n",
       "      <th id=\"T_b98ff_level0_col3\" class=\"col_heading level0 col3\" >orthogonality</th>\n",
       "      <th id=\"T_b98ff_level0_col4\" class=\"col_heading level0 col4\" >reconstruction</th>\n",
       "    </tr>\n",
       "  </thead>\n",
       "  <tbody>\n",
       "    <tr>\n",
       "      <th id=\"T_b98ff_level0_row0\" class=\"row_heading level0 row0\" >0</th>\n",
       "      <td id=\"T_b98ff_row0_col0\" class=\"data row0 col0\" >Householder QR</td>\n",
       "      <td id=\"T_b98ff_row0_col1\" class=\"data row0 col1\" >0.1031</td>\n",
       "      <td id=\"T_b98ff_row0_col2\" class=\"data row0 col2\" >1.0x</td>\n",
       "      <td id=\"T_b98ff_row0_col3\" class=\"data row0 col3\" >7.3e-15</td>\n",
       "      <td id=\"T_b98ff_row0_col4\" class=\"data row0 col4\" >2.8e-15</td>\n",
       "    </tr>\n",
       "    <tr>\n",
       "      <th id=\"T_b98ff_level0_row1\" class=\"row_heading level0 row1\" >1</th>\n",
       "      <td id=\"T_b98ff_row1_col0\" class=\"data row1 col0\" >Cholesky QR</td>\n",
       "      <td id=\"T_b98ff_row1_col1\" class=\"data row1 col1\" >0.0233</td>\n",
       "      <td id=\"T_b98ff_row1_col2\" class=\"data row1 col2\" >0.2x</td>\n",
       "      <td id=\"T_b98ff_row1_col3\" class=\"data row1 col3\" >4.1e-09</td>\n",
       "      <td id=\"T_b98ff_row1_col4\" class=\"data row1 col4\" >6.8e-16</td>\n",
       "    </tr>\n",
       "  </tbody>\n",
       "</table>\n"
      ],
      "text/plain": [
       "<pandas.io.formats.style.Styler at 0x7400d7dd4940>"
      ]
     },
     "execution_count": 109,
     "metadata": {},
     "output_type": "execute_result"
    }
   ],
   "source": [
    "# Time the QR factorization methods\n",
    "n_repeat = 10  # Number of repetitions for averaging\n",
    "\n",
    "results = []\n",
    "\n",
    "for method_name, method_info in qr_methods.items():\n",
    "    # Time the method\n",
    "    start = time.time()\n",
    "    for _ in range(n_repeat):\n",
    "        Q, R = method_info['func']()\n",
    "    end = time.time()\n",
    "    \n",
    "    avg_time = (end - start) / n_repeat\n",
    "    \n",
    "    # Compute accuracy metrics\n",
    "    results.append({\n",
    "        'method': method_name,\n",
    "        'time (s)': avg_time,\n",
    "        'flops/s': method_info['flops'] / avg_time,\n",
    "        'orthogonality': np.linalg.norm(Q.T @ Q - np.eye(d)),\n",
    "        'reconstruction': np.linalg.norm(A - Q @ R)\n",
    "    })\n",
    "\n",
    "# Create DataFrame and compute relative performance\n",
    "results_df = pd.DataFrame(results)\n",
    "results_df['speedup'] = results_df['time (s)'] / results_df['time (s)'].max()\n",
    "\n",
    "# Display results with formatting\n",
    "results_df.reindex(columns=['method','time (s)','speedup','orthogonality','reconstruction']).style.format({\n",
    "    'time (s)': '{:.4f}',\n",
    "    'flops/s': '{:.1e}',\n",
    "    'speedup': '{:.1f}x',\n",
    "    'orthogonality': '{:1.1e}',\n",
    "    'reconstruction': '{:1.1e}',\n",
    "})"
   ]
  },
  {
   "cell_type": "markdown",
   "metadata": {},
   "source": [
    "As expected, Cholesky QR is much faster than the standard Householder QR factorization.\n",
    "However, the $\\vec{Q}$ matrix produced is much less orthogonal!\n",
    "In the next section, we will explore how RandNLA can be used to produce a more accurate approximation, *while maintaining the efficiency of Cholesky QR*."
   ]
  }
 ],
 "metadata": {
  "kernelspec": {
   "display_name": "base",
   "language": "python",
   "name": "python3"
  },
  "language_info": {
   "codemirror_mode": {
    "name": "ipython",
    "version": 3
   },
   "file_extension": ".py",
   "mimetype": "text/x-python",
   "name": "python",
   "nbconvert_exporter": "python",
   "pygments_lexer": "ipython3",
   "version": "3.10.9"
  }
 },
 "nbformat": 4,
 "nbformat_minor": 4
}