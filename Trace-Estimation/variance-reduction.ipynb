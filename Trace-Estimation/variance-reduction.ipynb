{
 "cells": [
  {
   "cell_type": "markdown",
   "metadata": {},
   "source": [
    "# Variance Reduction\n",
    "\n",
    "\n",
    "Fix any matrix $\\vec{B}$ and consider the estimator\n",
    "```{math}\n",
    "\\widehat{\\tr}_m(\\vec{A},\\vec{B}) := \\tr(\\vec{B}) + \\widehat{\\tr}_m(\\vec{A} - \\vec{B}),\n",
    "```\n",
    "where $\\widehat{\\tr}_m(\\cdot)$ is the [Girard--Hutchinson ](./girard-hutchinson.ipynb#def:girard_hutchinson_estimator).\n",
    "\n",
    "This estimator can be implemented so long a we know $\\tr(\\vec{B})$ and can evaluate the maps $\\vec{x} \\mapsto \\vec{x}^\\T\\vec{A}\\vec{x}$ and $\\vec{x} \\mapsto \\vec{x}^\\T\\vec{B}\\vec{x}$ for any vector $\\vec{x}$.\n",
    "The advantage is that if $\\vec{B}$ is a good approximation of $\\vec{A}$, then\n",
    "```{math}\n",
    "\\VV[\\widehat{\\tr}_m(\\vec{A},\\vec{B})]\n",
    "= \\VV[\\widehat{\\tr}_m(\\vec{A} - \\vec{B})]\n",
    "```\n",
    "can be much smaller than $\\VV[\\widehat{\\tr}_m(\\vec{A})]$.\n",
    "For instance, if we are using Gaussian test vectors, \n",
    "```{math}\n",
    "\\VV[\\widehat{\\tr}_m(\\vec{A},\\vec{B})] = 2 \\Vert\\vec{A} - \\vec{B} \\Vert_\\F^2\n",
    ",\\quad\\text{while}\\quad\n",
    " \\VV[\\widehat{\\tr}_m(\\vec{A})] = 2 \\Vert\\vec{A}\\Vert_\\F^2.\n",
    "```\n",
    "\n",
    "\n"
   ]
  },
  {
   "cell_type": "markdown",
   "metadata": {},
   "source": [
    "## Hutch++\n",
    "\n",
    "The Hutch++ algorithm for improved trace estimation."
   ]
  },
  {
   "cell_type": "markdown",
   "metadata": {},
   "source": [
    "## XTrace\n",
    "\n",
    "The XTrace method for trace estimation."
   ]
  },
  {
   "cell_type": "markdown",
   "metadata": {},
   "source": [
    "## History\n",
    "\n",
    "Interestingly, while popularized this Variance reduction approach was popularized by the Hutch++ algorithm discussed below, as illusrated by the following excerpt from {cite:p}`girard_87`, this idea is very old:\n",
    "\n",
    "```{figure} ./girard-variance.png\n",
    "---\n",
    "---\n",
    "```\n",
    "\n"
   ]
  },
  {
   "cell_type": "markdown",
   "metadata": {},
   "source": [
    "## References\n",
    "```{bibliography}\n",
    ":filter: docname in docnames\n",
    "```"
   ]
  }
 ],
 "metadata": {
  "kernelspec": {
   "display_name": "Python 3",
   "language": "python",
   "name": "python3"
  },
  "language_info": {
   "codemirror_mode": {
    "name": "ipython",
    "version": 3
   },
   "file_extension": ".py",
   "mimetype": "text/x-python",
   "name": "python",
   "nbconvert_exporter": "python",
   "pygments_lexer": "ipython3",
   "version": "3.8.5"
  }
 },
 "nbformat": 4,
 "nbformat_minor": 4
}
