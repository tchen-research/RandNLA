{
 "cells": [
  {
   "cell_type": "markdown",
   "metadata": {},
   "source": [
    "# Stochastic Lanczos Quadrature\n",
    "\n"
   ]
  },
  {
   "cell_type": "markdown",
   "metadata": {},
   "source": [
    "Recall that using $k-1$ matrix-vector products with $\\vec{A}$, the [Lanczos method for quadratic forms](def:lanczos-method) produces an approximation $\\Call{Lan-QF}_k(f;\\vec{A},\\vec{x})$ that is an approximation to $\\vec{x}^\\T f(\\vec{A})\\vec{x}$.\n",
    "Stochastic Lanczos Quadrature (SLQ) simply combines this method with the [Girard-Hutchinson trace estimator](def:girard_hutchinson_estimator).\n",
    "\n",
    "\n",
    "````{prf:definition} Stochastic Lanczos Quadrature\n",
    "The *Stochastic Lanczos Quadrature* (SLQ) estimator for the spectral sum $\\tr(f(\\vec{A}))$ is given by\n",
    "\\begin{equation*}\n",
    "\\Call{SLQ}_{k,m}(f;\\vec{A}) := \\frac{1}{m} \\sum_{i=1}^{m} \\Call{Lan-QF}_k(f;\\vec{A},\\vec{x}_i),\n",
    "\\end{equation*}\n",
    "where $\\vec{x}_i$ are independent standard Gaussian vectors.\n",
    "````\n",
    "\n",
    "A simple application of the triangle inequality gives a bound on expected squared error of the SLQ estimator.\n",
    "\n",
    ":::{prf:theorem} \n",
    "\n",
    "For any $k,m\\geq 1$, the SLQ estimator uses $(k-1)m$ matrix-vector products to $\\vec{A}$ and satisfies\n",
    "\\begin{equation*}\n",
    "\\EE\\left[ | \\tr(f(\\vec{A})) - \\Call{SLQ}_{k,m}(f;\\vec{A}) |^2 \\right]\n",
    "\\leq \\frac{4\\| f(\\vec{A}) \\|_\\F^2}{m} + 6n^2  \\min_{\\deg(p)<2k-1} \\left( \\max_{x\\in[\\lambda_n,\\lambda_1]} | f(x) - p(x) | \\right).\n",
    "\\end{equation*}\n",
    ":::"
   ]
  },
  {
   "cell_type": "markdown",
   "metadata": {},
   "source": [
    "\n",
    "\n",
    ":::{admonition} Proof\n",
    ":class: dropdown \n",
    "\n",
    "By the triangle inequality and since $(x+y)^2\\leq 2(x^2+y^2)$, we have\n",
    "\\begin{equation*}\\begin{aligned}\n",
    "\\hspace{1em}&\\hspace{-1em}| \\tr(f(\\vec{A})) - \\Call{SLQ}_{k,m}(f;\\vec{A}) |^2\n",
    "\\\\&\\leq 2\\left| \\tr(f(\\vec{A})) - \\frac{1}{m}\\sum_{i=1}^{m} \\vec{x}_i^\\T f(\\vec{A})\\vec{x}_i \\right|^2 + 2\\left| \\frac{1}{m}\\sum_{i=1}^{m} \\vec{x}_i^\\T f(\\vec{A})\\vec{x}_i - \\Call{Lan-QF}_k(f;\\vec{A},\\vec{x}_i) \\right|^2.\n",
    "\\end{aligned}\\end{equation*}\n",
    "\n",
    "Note that \n",
    "\\begin{equation*}\n",
    "\\EE\\left[ \\left| \\tr(f(\\vec{A})) - \\frac{1}{m}\\sum_{i=1}^{m} \\vec{x}_i^\\T f(\\vec{A})\\vec{x}_i \\right|^2 \\right]\n",
    "= \n",
    "\\VV\\left[ \\widehat{\\tr}_m(f(\\vec{A})) \\right]\n",
    "= \\frac{2 \\| f(\\vec{A}) \\|_\\F^2}{m},\n",
    "\\end{equation*}\n",
    "where $\\widehat{\\tr}_m(\\cdot)$ is the [Girard--Hutchinson estimator](./girard-hutchinson.ipynb#def:girard_hutchinson_estimator).\n",
    "\n",
    "Next, by the triangle inequality and {prf:ref}`thm:lanczos_FA_polynomial`, \n",
    "\\begin{equation*}\\begin{aligned}\n",
    "\\hspace{2em}&\\hspace{-2em}\n",
    "\\left| \\frac{1}{m}\\sum_{i=1}^{m} \\vec{x}_i^\\T f(\\vec{A})\\vec{x}_i - \\Call{Lan-QF}_k(f;\\vec{A},\\vec{x}_i) \\right|\n",
    "\\\\&\\leq \\frac{1}{m}\\sum_{i=1}^{m} \\left| \\vec{x}_i^\\T f(\\vec{A})\\vec{x}_i - \\Call{Lan-QF}_k(f;\\vec{A},\\vec{x}_i) \\right|\n",
    "\\\\&\\leq \\frac{1}{m} \\sum_{i=1}^{m} \\|\\vec{x}_i\\|^2 \\min_{\\deg(p)<2k-1} \\max_{x\\in[\\lambda_n,\\lambda_1]} | f(x) - p(x) |.\n",
    "\\end{aligned}\\end{equation*}\n",
    "Hence, \n",
    "\\begin{equation*}\\begin{aligned}\n",
    "\\hspace{2em}&\\hspace{-2em}\n",
    "\\EE\\left[ \\left| \\frac{1}{m}\\sum_{i=1}^{m} \\vec{x}_i^\\T f(\\vec{A})\\vec{x}_i - \\Call{Lan-QF}_k(f;\\vec{A},\\vec{x}_i) \\right|^2 \\right]\n",
    "\\\\&\\leq \\frac{1}{m^2}\\EE\\left[  \\left(\\sum_{i=1}^{m} \\|\\vec{x}_i\\|^2 \\right)^2 \\right] \\min_{\\deg(p)<2k-1} \\max_{x\\in[\\lambda_n,\\lambda_1]} | f(x) - p(x) |\n",
    "\\end{aligned}\\end{equation*}\n",
    "Now, note that $\\sum_{i=1}^{m} \\|\\vec{x}_i\\|^2$ is a Chi-squared random variable with $mn$ degrees of freedom. \n",
    "By looking on [Wikipedia](https://en.wikipedia.org/wiki/Chi-squared_distribution), we see that\n",
    "\\begin{equation*}\n",
    "\\EE\\left[  \\left(\\sum_{i=1}^{m} \\|\\vec{x}_i\\|^2 \\right)^2 \\right] = 2mn + (mn)^2 \\leq 3(mn)^2.\n",
    "\\end{equation*}\n",
    "Combining all of the above gives the result.\n",
    "\n",
    ":::\n",
    "\n",
    "Note that for \"nice\" functions $f(x)$, the error of the best polynomial approximation decreases exponentially with $k$ {cite:p}`trefethen_19`."
   ]
  },
  {
   "cell_type": "markdown",
   "metadata": {},
   "source": [
    "\n",
    "\n",
    "## Randomized Matrix Free Quadrature\n",
    "\n",
    "\n"
   ]
  },
  {
   "cell_type": "code",
   "execution_count": null,
   "metadata": {},
   "outputs": [],
   "source": []
  }
 ],
 "metadata": {
  "kernelspec": {
   "display_name": "Python 3",
   "language": "python",
   "name": "python3"
  },
  "language_info": {
   "codemirror_mode": {
    "name": "ipython",
    "version": 3
   },
   "file_extension": ".py",
   "mimetype": "text/x-python",
   "name": "python",
   "nbconvert_exporter": "python",
   "pygments_lexer": "ipython3",
   "version": "3.8.5"
  }
 },
 "nbformat": 4,
 "nbformat_minor": 4
}
