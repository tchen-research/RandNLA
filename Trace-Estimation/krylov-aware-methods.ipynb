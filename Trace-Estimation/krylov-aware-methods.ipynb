{
 "cells": [
  {
   "cell_type": "markdown",
   "metadata": {},
   "source": [
    "# Krylov Aware Methods\n",
    "\n",
    "\n",
    "\n",
    "It's natural to combine Krylov subspace methods with [variance reduction techniques](./variance-reduction.ipynb) for trace estimation.\n",
    "This can lead to improvements over [Stochastic Lanczos Quadrature](./spectrum-spectral-sum-approximation.ipynb), which is based on the [Girard-Hutchinson estimator](./girard-hutchinson.md).\n",
    "\n",
    "Krylov aware methods make use of the fact that the interaction between Krylov subspace methods \n",
    "\n",
    "\n",
    "\n",
    "\n"
   ]
  },
  {
   "cell_type": "markdown",
   "metadata": {},
   "source": []
  }
 ],
 "metadata": {
  "kernelspec": {
   "display_name": "Python 3",
   "language": "python",
   "name": "python3"
  },
  "language_info": {
   "codemirror_mode": {
    "name": "ipython",
    "version": 3
   },
   "file_extension": ".py",
   "mimetype": "text/x-python",
   "name": "python",
   "nbconvert_exporter": "python",
   "pygments_lexer": "ipython3",
   "version": "3.8.5"
  }
 },
 "nbformat": 4,
 "nbformat_minor": 4
}
