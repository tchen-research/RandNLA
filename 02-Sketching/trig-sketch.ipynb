{
 "cells": [
  {
   "cell_type": "markdown",
   "metadata": {},
   "source": [
    "---\n",
    "title: Trigonometric Sketching Matrices\n",
    "description: Implementation and properties of trigonometric sketching matrices using fast transform methods\n",
    "keywords: [trigonometric sketch, DCT, fast transform, random permutation, sign flip, subspace embedding]\n",
    "numbering:\n",
    "  equation:\n",
    "    enumerator: 2.%s\n",
    "    continue: true\n",
    "  proof:theorem:\n",
    "    enumerator: 2.%s\n",
    "    continue: true\n",
    "  proof:algorithm:\n",
    "    enumerator: 2.%s\n",
    "    continue: true\n",
    "  proof:definition:\n",
    "    enumerator: 2.%s\n",
    "    continue: true\n",
    "  proof:proposition:\n",
    "    enumerator: 2.%s\n",
    "    continue: true\n",
    "---\n",
    "\n",
    ":::{prf:definition}\n",
    ":label: def:trig-sketch\n",
    "We say a matrix $\\vec{S}\\in\\R^{k\\times n}$ is a *trigonometric sketch* matrix if it has the distribution\n",
    "```{math}\n",
    ":enumerated: false\n",
    "\\vec{S} = \\sqrt{\\frac{n}{k}}\\vec{R}\\vec{F}\\vec{E}\\vec{\\Pi},\n",
    "```\n",
    "where $\\vec{R}$ is a restriction to $\\vec{R}\\in\\R^{k\\times n}$ random coordinates,  $\\vec{F}\\in\\R^{n\\times n}$ is a orthogonal fast trig transform (e.g. DCT), $\\vec{E}\\in\\R^{n\\times n}$ is a random sign flip, and $\\vec{\\Pi}\\in\\R^{n\\times n}$ is a random permutation.\n",
    ":::\n",
    "\n",
    "A trigonometric sketch matrix can be applied to $\\vec{A}$ in $O(nd\\log(n))$ operations.\n",
    "A downside is that it is not easy to efficiently apply the sketch matrix to a sparse matrix $\\vec{A}$.\n",
    "In addition, parallelizing the application of tigonometric transforms is not as straightforward as for Gaussian or sparse sketches.\n",
    "\n",
    ":::{prf:theorem}\n",
    "\n",
    "Fix any subspace $V\\subset\\R^n$ of dimension $d$.\n",
    "A DCT TrigSketch matrix $\\vec{S}$ is a subspace embedding for $V$ with constant distortion and constant probability for some\n",
    "\\begin{equation*}\n",
    "k = O\\left(d\\log(d)\\right).\n",
    "\\end{equation*}\n",
    ":::\n",
    "\n",
    "In other words, with relative little overhead compared to CountSketch, SparseStack matrices substantially improve the embedding dimension.\n",
    "\n",
    "\n",
    "### Implementation\n",
    "\n",
    "The implementation of a trigonometric sketch matrix is relatively straightforward.\n",
    "An efficient application requires sequentially applying the constituent operations, and hence we define a custom class."
   ]
  },
  {
   "cell_type": "code",
   "execution_count": null,
   "metadata": {
    "vscode": {
     "languageId": "plaintext"
    }
   },
   "outputs": [],
   "source": [
    "class trig_sketch():\n",
    "    \n",
    "    def __init__(self,n,k,rng):\n",
    "\n",
    "        self.shape = (k,n)\n",
    "        self.pi = rng.permutation(n)\n",
    "        self.E = 2*rng.randint(0,2,n)-1\n",
    "        self.R = rng.choice(n,size=k,replace=False)\n",
    "\n",
    "    def __matmul__(self,A):\n",
    "\n",
    "        A_loc = A.A if sp.sparse.issparse(A) else A\n",
    "        return np.sqrt(self.shape[1]/self.shape[0])*sp.fft.dct(self.E[:,None]*A_loc[self.pi],norm='ortho',axis=0)[self.R]"
   ]
  }
 ],
 "metadata": {
  "language_info": {
   "name": "python"
  }
 },
 "nbformat": 4,
 "nbformat_minor": 2
}
