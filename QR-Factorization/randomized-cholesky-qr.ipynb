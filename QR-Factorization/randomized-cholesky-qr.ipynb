{
 "cells": [
  {
   "cell_type": "markdown",
   "metadata": {},
   "source": [
    "# Randomized Cholesky QR\n",
    "\n",
    "\n",
    "While [CholeskyQR](./cholesky-qr.ipynb) has a high flop efficiency, it is unstable due to forming the Gram matrix $\\vec{A}^\\T\\vec{A}$.\n",
    "\n",
    "\n",
    "## Subspace Embedding for approximate QR\n",
    "\n",
    "\n",
    "```{prf:algorithm} Randomized approximate QR\n",
    ":label: sketched-qr\n",
    "\n",
    "**Input:** $\\vec{A}\\in\\R^{n\\times d}$, sketching dimension $k$\n",
    "\n",
    "1. Sample $\\vec{S}\\sim\\Call{Sketch}(k,n)$\n",
    "1. For $\\vec{Y} = \\vec{S}\\vec{A}$\n",
    "1. Compute QR factorization $\\vec{Q}'\\vec{R} = \\Call{qr}(\\vec{Y})$.\n",
    "1. Form $\\vec{A} = \\vec{A}\\vec{R}^{-1}$\n",
    "\n",
    "**Output:** $\\vec{Q}, \\vec{R}$\n",
    "```\n",
    "\n",
    "\n",
    "````{prf:theorem} Well-conditioned basis from subspace embedding\n",
    "\n",
    "Suppose $\\vec{S}$ is an $\\varepsilon$-subspace embedding for $\\vec{A}$.\n",
    "Then the output $\\vec{Q}$ of {prf:ref}`sketched-qr` is well-conditioned in the sense that \n",
    "```{math}\n",
    "1-\\varepsilon \\leq \\smin(\\vec{Q}) \\leq \\smax(\\vec{Q}) \\leq 1+\\varepsilon.\n",
    "```\n",
    "````\n",
    "\n",
    "\n",
    "````{prf:proof}\n",
    "fdas\n",
    "````\n",
    "\n",
    "\n",
    "Unfortuatnely, [obvious sketching methods](../Background/sketching.ipynb) require $k$ to grow polynomially with $\\varepsilon$. \n",
    "As such, {prf:ref}`sketched-qr` is not suitable for providing a nearly orthonormal basis.\n"
   ]
  },
  {
   "cell_type": "markdown",
   "metadata": {},
   "source": [
    "\n",
    "## Preconditioning for QR\n",
    "\n",
    "\n",
    "{prf:alg}`sketched-qr` can efficiently provide a well-conditioned basis for $\\vec{A}$. \n",
    "\n",
    "\n",
    "\n",
    "```{prf:algorithm} Randomized Cholesky QR\n",
    ":label: randomized-cholesky-qr\n",
    "\n",
    "**Input:** $\\vec{A}\\in\\R^{n\\times d}$, sketching dimension $k$\n",
    "\n",
    "1. Compute approximate QR factorization $\\vec{Q}_1,\\vec{R}_1 = \\Call{rand-qr}(\\vec{A})$\n",
    "1. $\\vec{Q},\\vec{R}_1 = \\Call{cholesky-qr}(\\vec{Q}_1)$\n",
    "1. $\\vec{R} = \\vec{R}_2\\vec{R}_1$\n",
    "\n",
    "**Output:** $\\vec{Q}, \\vec{R}$\n",
    "```"
   ]
  },
  {
   "cell_type": "markdown",
   "metadata": {},
   "source": [
    "## Numerical Experiment\n",
    "\n",
    "Let's try to understand the performance of Randomized Cholesky QR relative to "
   ]
  },
  {
   "cell_type": "markdown",
   "metadata": {},
   "source": []
  }
 ],
 "metadata": {
  "kernelspec": {
   "display_name": "base",
   "language": "python",
   "name": "python3"
  },
  "language_info": {
   "codemirror_mode": {
    "name": "ipython",
    "version": 3
   },
   "file_extension": ".py",
   "mimetype": "text/x-python",
   "name": "python",
   "nbconvert_exporter": "python",
   "pygments_lexer": "ipython3",
   "version": "3.10.9"
  }
 },
 "nbformat": 4,
 "nbformat_minor": 4
}
