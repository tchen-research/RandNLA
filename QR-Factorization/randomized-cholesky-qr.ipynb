{
 "cells": [
  {
   "cell_type": "markdown",
   "metadata": {},
   "source": [
    "# Randomized Cholesky QR\n",
    "\n",
    "\n",
    "While [CholeskyQR](./cholesky-qr.ipynb) has a high flop efficiency, it is unstable due to forming the Gram matrix $\\vec{A}^\\T\\vec{A}$.\n",
    "\n",
    "\n",
    "## Subspace Embedding for approximate QR\n",
    "\n",
    "\n",
    "```{prf:algorithm} Randomized approximate QR\n",
    ":label: sketched-qr\n",
    "\n",
    "**Input:** $\\vec{A}\\in\\R^{n\\times d}$, sketching dimension $k$\n",
    "\n",
    "1. Sample $\\vec{S}\\sim\\Call{Sketch}(k,n)$\n",
    "1. For $\\vec{Y} = \\vec{S}\\vec{A}$\n",
    "1. Compute QR factorization $\\vec{Q}'\\vec{R} = \\Call{qr}(\\vec{Y})$.\n",
    "1. Form $\\vec{Q} = \\vec{A}\\vec{R}^{-1}$\n",
    "\n",
    "**Output:** $\\vec{Q}, \\vec{R}$\n",
    "```\n",
    "\n",
    "\n",
    "````{prf:theorem} Well-conditioned basis from subspace embedding\n",
    "\n",
    "Suppose $\\vec{A}$ is full-ranka and $\\vec{S}$ is an $\\varepsilon$-subspace embedding for $\\vec{A}$.\n",
    "Then the output $\\vec{Q}$ of {prf:ref}`sketched-qr` is well-conditioned in the sense that \n",
    "```{math}\n",
    "\\cond(\\vec{Q}) \\leq \\frac{1+\\varepsilon}{1-\\varepsilon}.\n",
    "```\n",
    "````\n",
    "\n",
    "\n",
    "````{admonition} Proof\n",
    ":class: dropdown\n",
    "\n",
    "By definition, \n",
    "```{math}\n",
    "\\forall \\vec{x}\\in\\range(\\vec{A}): (1-\\varepsilon)\\|\\vec{x}\\|_2 \\leq \\|\\vec{S}\\vec{x}\\|_2 \\leq (1+\\varepsilon)\\|\\vec{x}\\|_2.\n",
    "```\n",
    "We can reparameterize $\\vec{x} = \\vec{A}\\vec{R}^{-1}\\vec{c} = \\vec{Q}\\vec{c}$ for some $\\vec{c}\\in\\R^d$.\n",
    "Since $\\vec{S}\\vec{A}\\vec{R}^{-1} = \\vec{Q}'$ has orthonormal columns, we have $\\|\\vec{S}\\vec{x}\\| = \\|\\vec{S}\\vec{A}\\vec{R}^{-1}\\vec{c}\\|_2 = \\|\\vec{c}\\|_2$.\n",
    "Thus,\n",
    "```{math}\n",
    "(1-\\varepsilon) \\|\\vec{Q}\\vec{c}\\|_2 \\leq \\|\\vec{c}\\|_2 \\leq (1+\\varepsilon)\\|\\vec{Q}\\vec{c}\\|_2.\n",
    "```\n",
    "Hence, \n",
    "```{math}\n",
    "\\smin(\\vec{Q}) = \\min_{\\vec{c}\\neq 0} \\frac{\\|\\vec{Q}\\vec{c}\\|_2}{\\|\\vec{c}\\|_2} \\geq \\frac{1}{1+\\varepsilon} \n",
    ",\\qquad\n",
    "\\smax(\\vec{Q}) = \\max_{\\vec{c}\\neq 0} \\frac{\\|\\vec{Q}\\vec{c}\\|_2}{\\|\\vec{c}\\|_2} \\leq \\frac{1}{1-\\varepsilon}.\n",
    "````\n",
    "\n",
    "\n",
    "Unfortunately, [oblivious sketching methods](../Sketching/subspace-embedding.ipynb) require $k$ to grow polynomially with $\\varepsilon$. \n",
    "As such, {prf:ref}`sketched-qr` can easily provide a well-conditioned basis, it is not suitable for providing a nearly machine-precision orthonormal basis."
   ]
  },
  {
   "cell_type": "markdown",
   "metadata": {},
   "source": [
    "\n",
    "## Preconditioning for QR\n",
    "\n",
    "\n",
    "We can use the Cholesky QR method to orthonalize the output of {prf:ref}`sketched-qr`.\n",
    "Since this output can bet guaranteed to be well-conditioned, the stability issues of Cholesky QR are mitigated.\n",
    "\n",
    "\n",
    "```{prf:algorithm} Randomized Cholesky QR\n",
    ":label: randomized-cholesky-qr\n",
    "\n",
    "**Input:** $\\vec{A}\\in\\R^{n\\times d}$, sketching dimension $k$\n",
    "\n",
    "1. Compute approximate QR factorization $\\vec{Q}_1,\\vec{R}_1 = \\Call{rand-qr}(\\vec{A})$\n",
    "1. $\\vec{Q},\\vec{R}_1 = \\Call{cholesky-qr}(\\vec{Q}_1)$\n",
    "1. $\\vec{R} = \\vec{R}_2\\vec{R}_1$\n",
    "\n",
    "**Output:** $\\vec{Q}, \\vec{R}$\n",
    "```"
   ]
  },
  {
   "cell_type": "markdown",
   "metadata": {},
   "source": [
    "## Numerical Experiment\n",
    "\n",
    "Let's compare the performance and accuracy of different QR factorization methods, including our new randomized Cholesky QR approach."
   ]
  },
  {
   "cell_type": "code",
   "execution_count": 17,
   "metadata": {
    "tags": [
     "remove-cell"
    ]
   },
   "outputs": [],
   "source": [
    "import numpy as np\n",
    "import scipy as sp\n",
    "import time\n",
    "import pandas as pd\n",
    "\n",
    "def sparse_stack(n,k,zeta):\n",
    "\n",
    "    k_loc = (k-1)//zeta + 1\n",
    "    k = k_loc * zeta\n",
    "\n",
    "\n",
    "    C = np.random.randint(0,k_loc,size=(n,zeta))\n",
    "    C += np.arange(0,k_loc*zeta,k_loc)\n",
    "\n",
    "    indices = C.flatten()\n",
    "    values = ((2/np.sqrt(zeta))*np.random.randint(2,size=n*zeta) -1/np.sqrt(zeta))\n",
    "    indptr = np.arange(0,n+1)*zeta\n",
    "    S = sp.sparse.csc_matrix ((values,indices,indptr),shape=(k,n))\n",
    "\n",
    "    return S"
   ]
  },
  {
   "cell_type": "code",
   "execution_count": 2,
   "metadata": {
    "tags": [
     "remove-cell"
    ]
   },
   "outputs": [],
   "source": [
    "# Generate a random matrix with controlled condition number\n",
    "n = 5000\n",
    "d = 300\n",
    "\n",
    "U, s, Vt = np.linalg.svd(np.random.rand(n, d), full_matrices=False)\n",
    "s = np.geomspace(1e-4, 1, d)  # Controlled singular values for numerical stability\n",
    "A = U @ np.diag(s) @ Vt\n",
    "\n",
    "def cholesky_QR(A):\n",
    "    \"\"\"\n",
    "    QR factorization using Cholesky decomposition\n",
    "    \"\"\"\n",
    "    R = np.linalg.cholesky(A.T @ A).T\n",
    "    Q = sp.linalg.solve_triangular(R.T, A.T, lower=True).T\n",
    "    return Q, R"
   ]
  },
  {
   "cell_type": "code",
   "execution_count": 24,
   "metadata": {},
   "outputs": [],
   "source": [
    "def sketched_qr(A,k,zeta):\n",
    "\n",
    "    n, d = A.shape\n",
    "\n",
    "    S = sparse_stack(n,k,4)  # Generate sign sketch\n",
    "    Y = S @ A\n",
    "\n",
    "    R = np.linalg.qr(Y, mode='r')    # QR factorization of sketched matrix\n",
    "\n",
    "    \n",
    "    Q1 = sp.linalg.solve_triangular(R.T,A.T,lower=True).T\n",
    "    \n",
    "    return Q1, R\n",
    "\n",
    "def randomized_cholesky_QR(A,k,zeta):\n",
    "\n",
    "    Q1, R1 = sketched_qr(A,k,zeta)  # Compute sketched QR factorization for preconditioning\n",
    "    Q2, R2 = cholesky_QR(Q1) # Apply Cholesky QR to well-conditioned matrix Q1\n",
    "    R = R2 @ R1 # Combine the R factors\n",
    "    \n",
    "    return Q2, R"
   ]
  },
  {
   "cell_type": "code",
   "execution_count": 25,
   "metadata": {
    "tags": [
     "hide-input"
    ]
   },
   "outputs": [],
   "source": [
    "# Define QR factorization methods\n",
    "qr_methods = {\n",
    "    'Householder QR': {\n",
    "        'func': lambda: np.linalg.qr(A, mode='reduced'),\n",
    "    },\n",
    "    'Cholesky QR': {\n",
    "        'func': lambda: cholesky_QR(A),\n",
    "    },\n",
    "    'Randomized Cholesky QR': {\n",
    "        'func': lambda: randomized_cholesky_QR(A,k=int(1.25*d),zeta=4),\n",
    "    }\n",
    "}"
   ]
  },
  {
   "cell_type": "code",
   "execution_count": 26,
   "metadata": {
    "tags": [
     "hide-input"
    ]
   },
   "outputs": [
    {
     "data": {
      "text/html": [
       "<style type=\"text/css\">\n",
       "</style>\n",
       "<table id=\"T_15d7c\">\n",
       "  <thead>\n",
       "    <tr>\n",
       "      <th class=\"blank level0\" >&nbsp;</th>\n",
       "      <th id=\"T_15d7c_level0_col0\" class=\"col_heading level0 col0\" >method</th>\n",
       "      <th id=\"T_15d7c_level0_col1\" class=\"col_heading level0 col1\" >time (s)</th>\n",
       "      <th id=\"T_15d7c_level0_col2\" class=\"col_heading level0 col2\" >speedup</th>\n",
       "      <th id=\"T_15d7c_level0_col3\" class=\"col_heading level0 col3\" >orthogonality</th>\n",
       "      <th id=\"T_15d7c_level0_col4\" class=\"col_heading level0 col4\" >reconstruction</th>\n",
       "    </tr>\n",
       "  </thead>\n",
       "  <tbody>\n",
       "    <tr>\n",
       "      <th id=\"T_15d7c_level0_row0\" class=\"row_heading level0 row0\" >0</th>\n",
       "      <td id=\"T_15d7c_row0_col0\" class=\"data row0 col0\" >Householder QR</td>\n",
       "      <td id=\"T_15d7c_row0_col1\" class=\"data row0 col1\" >0.1078</td>\n",
       "      <td id=\"T_15d7c_row0_col2\" class=\"data row0 col2\" >1.0x</td>\n",
       "      <td id=\"T_15d7c_row0_col3\" class=\"data row0 col3\" >7.0e-15</td>\n",
       "      <td id=\"T_15d7c_row0_col4\" class=\"data row0 col4\" >2.7e-15</td>\n",
       "    </tr>\n",
       "    <tr>\n",
       "      <th id=\"T_15d7c_level0_row1\" class=\"row_heading level0 row1\" >1</th>\n",
       "      <td id=\"T_15d7c_row1_col0\" class=\"data row1 col0\" >Cholesky QR</td>\n",
       "      <td id=\"T_15d7c_row1_col1\" class=\"data row1 col1\" >0.0239</td>\n",
       "      <td id=\"T_15d7c_row1_col2\" class=\"data row1 col2\" >0.2x</td>\n",
       "      <td id=\"T_15d7c_row1_col3\" class=\"data row1 col3\" >4.2e-09</td>\n",
       "      <td id=\"T_15d7c_row1_col4\" class=\"data row1 col4\" >6.7e-16</td>\n",
       "    </tr>\n",
       "    <tr>\n",
       "      <th id=\"T_15d7c_level0_row2\" class=\"row_heading level0 row2\" >2</th>\n",
       "      <td id=\"T_15d7c_row2_col0\" class=\"data row2 col0\" >Randomized Cholesky QR</td>\n",
       "      <td id=\"T_15d7c_row2_col1\" class=\"data row2 col1\" >0.0514</td>\n",
       "      <td id=\"T_15d7c_row2_col2\" class=\"data row2 col2\" >0.5x</td>\n",
       "      <td id=\"T_15d7c_row2_col3\" class=\"data row2 col3\" >2.1e-14</td>\n",
       "      <td id=\"T_15d7c_row2_col4\" class=\"data row2 col4\" >3.8e-15</td>\n",
       "    </tr>\n",
       "  </tbody>\n",
       "</table>\n"
      ],
      "text/plain": [
       "<pandas.io.formats.style.Styler at 0x7fe83338b940>"
      ]
     },
     "execution_count": 26,
     "metadata": {},
     "output_type": "execute_result"
    }
   ],
   "source": [
    "# Time the QR factorization methods\n",
    "n_repeat = 10  # Number of repetitions for averaging\n",
    "\n",
    "results = []\n",
    "\n",
    "for method_name, method_info in qr_methods.items():\n",
    "    # Time the method\n",
    "    start = time.time()\n",
    "    for _ in range(n_repeat):\n",
    "        Q, R = method_info['func']()\n",
    "    end = time.time()\n",
    "    \n",
    "    avg_time = (end - start) / n_repeat\n",
    "    \n",
    "    # Compute accuracy metrics\n",
    "    results.append({\n",
    "        'method': method_name,\n",
    "        'time (s)': avg_time,\n",
    "        'orthogonality': np.linalg.norm(Q.T @ Q - np.eye(d)),\n",
    "        'reconstruction': np.linalg.norm(A - Q @ R)\n",
    "    })\n",
    "\n",
    "# Create DataFrame and compute relative performance\n",
    "results_df = pd.DataFrame(results)\n",
    "results_df['speedup'] = results_df['time (s)'] / results_df['time (s)'].max()\n",
    "\n",
    "# Display results with formatting\n",
    "results_df.reindex(columns=['method','time (s)','speedup','orthogonality','reconstruction']).style.format({\n",
    "    'time (s)': '{:.4f}',\n",
    "    'orthogonality': '{:1.1e}',\n",
    "    'reconstruction': '{:1.1e}',\n",
    "    'speedup': '{:.1f}x',\n",
    "})"
   ]
  },
  {
   "cell_type": "markdown",
   "metadata": {},
   "source": [
    "The results demonstrate the trade-offs between the different QR factorization approaches:\n",
    "\n",
    "- **Householder QR**: Slow but numerically stable with excellent orthogonality\n",
    "- **Cholesky QR**: Fast but numerically unstable due to the Gram matrix $\\vec{A}^\\T\\vec{A}$\n",
    "- **Randomized Cholesky QR**: Achieves a middle ground - faster than Householder QR while maintaining much better numerical stability than standard Cholesky QR\n",
    "\n",
    "The randomized approach successfully addresses the numerical instability of Cholesky QR by using the sketching step to precondition the matrix, making it well-conditioned before applying the Cholesky factorization."
   ]
  }
 ],
 "metadata": {
  "kernelspec": {
   "display_name": "base",
   "language": "python",
   "name": "python3"
  },
  "language_info": {
   "codemirror_mode": {
    "name": "ipython",
    "version": 3
   },
   "file_extension": ".py",
   "mimetype": "text/x-python",
   "name": "python",
   "nbconvert_exporter": "python",
   "pygments_lexer": "ipython3",
   "version": "3.10.9"
  }
 },
 "nbformat": 4,
 "nbformat_minor": 4
}
